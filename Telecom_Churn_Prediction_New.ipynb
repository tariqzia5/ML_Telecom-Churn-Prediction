{
  "cells": [
    {
      "cell_type": "markdown",
      "metadata": {
        "id": "view-in-github",
        "colab_type": "text"
      },
      "source": [
        "<a href=\"https://colab.research.google.com/github/tariqzia5/ML_Telecom-Churn-Prediction/blob/main/Telecom_Churn_Prediction_New.ipynb\" target=\"_parent\"><img src=\"https://colab.research.google.com/assets/colab-badge.svg\" alt=\"Open In Colab\"/></a>"
      ]
    },
    {
      "cell_type": "markdown",
      "metadata": {
        "id": "_dskxxJdat0v"
      },
      "source": [
        "Dataset Location\n",
        "https://www.kaggle.com/datasets/mnassrib/telecom-churn-datasets"
      ]
    },
    {
      "cell_type": "markdown",
      "metadata": {
        "id": "jVEdXtTW2EK9"
      },
      "source": [
        "# Problem Statement and Project Objective "
      ]
    },
    {
      "cell_type": "markdown",
      "metadata": {
        "id": "NnjgXt-1-sMe"
      },
      "source": [
        "## **PROJECT OBJECTIVE**\n",
        "In a hyper-competitive telecom market, customers are able to select from multiple-service providers and actively switch between services providers for various reason: poor customer service (e.g., long waiting time to resolve issues, have to make multiple call to resolve queries, etc.), poor network coverage, lack of self-service tools and platforms, etc. The Churn burn is further compounded by the entry of MVNOs who offer wide variety of services in a bundle (voice + data + OTT) and have deployed new technologies compared to incumbent service provider. Customers are willing to leave incumbent service providers if the brand sucks.\n",
        "\n",
        "Further, service providers are focused on customer acquisition and seldom pay attention to customer retention untill the churn rate is peaking. However, it can cost more to acquire a new customer than retaining existing customers.\n",
        "\n",
        "Predicting churn in a hyper competitive market is becoming important factor in customer relationship management and to maintain or improve ARPU.\n",
        "\n",
        "# **ISSUES WITH THE DATASET**\n",
        "1. It is not clear if the data provided is for a post-paid or pre-paid subscriber.\n",
        "2. Additional variables that would have made difference in prediction are ARPU, clarity on account lentght (days?, weeks? months?), plan type, gender, sold directly by Orange or via Partner (this would have further helped in identifying where the Churn is happening), Roaming (Yes or No), Day Pack (Voice and Data), Night Pack (Voice and Data), Internet Plan (if any)\n",
        "\n",
        "\n",
        "# **TARGET VARIABLE**\n",
        "\n",
        "Churn is the target variable"
      ]
    },
    {
      "cell_type": "markdown",
      "metadata": {
        "id": "g0QUEIVU_dTS"
      },
      "source": [
        "# **Importing Files**"
      ]
    },
    {
      "cell_type": "code",
      "execution_count": 1,
      "metadata": {
        "id": "MhsYvzih_C0A",
        "outputId": "4fa4eb31-b7a8-4777-c775-46bf6a0df245",
        "colab": {
          "base_uri": "https://localhost:8080/",
          "height": 522
        }
      },
      "outputs": [
        {
          "output_type": "execute_result",
          "data": {
            "text/plain": [
              "     State  Account length  Area code International plan Voice mail plan  \\\n",
              "0       KS             128        415                 No             Yes   \n",
              "1       OH             107        415                 No             Yes   \n",
              "2       NJ             137        415                 No              No   \n",
              "3       OH              84        408                Yes              No   \n",
              "4       OK              75        415                Yes              No   \n",
              "...    ...             ...        ...                ...             ...   \n",
              "2661    SC              79        415                 No              No   \n",
              "2662    AZ             192        415                 No             Yes   \n",
              "2663    WV              68        415                 No              No   \n",
              "2664    RI              28        510                 No              No   \n",
              "2665    TN              74        415                 No             Yes   \n",
              "\n",
              "      Number vmail messages  Total day minutes  Total day calls  \\\n",
              "0                        25              265.1              110   \n",
              "1                        26              161.6              123   \n",
              "2                         0              243.4              114   \n",
              "3                         0              299.4               71   \n",
              "4                         0              166.7              113   \n",
              "...                     ...                ...              ...   \n",
              "2661                      0              134.7               98   \n",
              "2662                     36              156.2               77   \n",
              "2663                      0              231.1               57   \n",
              "2664                      0              180.8              109   \n",
              "2665                     25              234.4              113   \n",
              "\n",
              "      Total day charge  Total eve minutes  Total eve calls  Total eve charge  \\\n",
              "0                45.07              197.4               99             16.78   \n",
              "1                27.47              195.5              103             16.62   \n",
              "2                41.38              121.2              110             10.30   \n",
              "3                50.90               61.9               88              5.26   \n",
              "4                28.34              148.3              122             12.61   \n",
              "...                ...                ...              ...               ...   \n",
              "2661             22.90              189.7               68             16.12   \n",
              "2662             26.55              215.5              126             18.32   \n",
              "2663             39.29              153.4               55             13.04   \n",
              "2664             30.74              288.8               58             24.55   \n",
              "2665             39.85              265.9               82             22.60   \n",
              "\n",
              "      Total night minutes  Total night calls  Total night charge  \\\n",
              "0                   244.7                 91               11.01   \n",
              "1                   254.4                103               11.45   \n",
              "2                   162.6                104                7.32   \n",
              "3                   196.9                 89                8.86   \n",
              "4                   186.9                121                8.41   \n",
              "...                   ...                ...                 ...   \n",
              "2661                221.4                128                9.96   \n",
              "2662                279.1                 83               12.56   \n",
              "2663                191.3                123                8.61   \n",
              "2664                191.9                 91                8.64   \n",
              "2665                241.4                 77               10.86   \n",
              "\n",
              "      Total intl minutes  Total intl calls  Total intl charge  \\\n",
              "0                   10.0                 3               2.70   \n",
              "1                   13.7                 3               3.70   \n",
              "2                   12.2                 5               3.29   \n",
              "3                    6.6                 7               1.78   \n",
              "4                   10.1                 3               2.73   \n",
              "...                  ...               ...                ...   \n",
              "2661                11.8                 5               3.19   \n",
              "2662                 9.9                 6               2.67   \n",
              "2663                 9.6                 4               2.59   \n",
              "2664                14.1                 6               3.81   \n",
              "2665                13.7                 4               3.70   \n",
              "\n",
              "      Customer service calls  Churn  \n",
              "0                          1  False  \n",
              "1                          1  False  \n",
              "2                          0  False  \n",
              "3                          2  False  \n",
              "4                          3  False  \n",
              "...                      ...    ...  \n",
              "2661                       2  False  \n",
              "2662                       2  False  \n",
              "2663                       3  False  \n",
              "2664                       2  False  \n",
              "2665                       0  False  \n",
              "\n",
              "[2666 rows x 20 columns]"
            ],
            "text/html": [
              "\n",
              "  <div id=\"df-a3a233d2-7065-43b2-a639-607262ce7ae1\">\n",
              "    <div class=\"colab-df-container\">\n",
              "      <div>\n",
              "<style scoped>\n",
              "    .dataframe tbody tr th:only-of-type {\n",
              "        vertical-align: middle;\n",
              "    }\n",
              "\n",
              "    .dataframe tbody tr th {\n",
              "        vertical-align: top;\n",
              "    }\n",
              "\n",
              "    .dataframe thead th {\n",
              "        text-align: right;\n",
              "    }\n",
              "</style>\n",
              "<table border=\"1\" class=\"dataframe\">\n",
              "  <thead>\n",
              "    <tr style=\"text-align: right;\">\n",
              "      <th></th>\n",
              "      <th>State</th>\n",
              "      <th>Account length</th>\n",
              "      <th>Area code</th>\n",
              "      <th>International plan</th>\n",
              "      <th>Voice mail plan</th>\n",
              "      <th>Number vmail messages</th>\n",
              "      <th>Total day minutes</th>\n",
              "      <th>Total day calls</th>\n",
              "      <th>Total day charge</th>\n",
              "      <th>Total eve minutes</th>\n",
              "      <th>Total eve calls</th>\n",
              "      <th>Total eve charge</th>\n",
              "      <th>Total night minutes</th>\n",
              "      <th>Total night calls</th>\n",
              "      <th>Total night charge</th>\n",
              "      <th>Total intl minutes</th>\n",
              "      <th>Total intl calls</th>\n",
              "      <th>Total intl charge</th>\n",
              "      <th>Customer service calls</th>\n",
              "      <th>Churn</th>\n",
              "    </tr>\n",
              "  </thead>\n",
              "  <tbody>\n",
              "    <tr>\n",
              "      <th>0</th>\n",
              "      <td>KS</td>\n",
              "      <td>128</td>\n",
              "      <td>415</td>\n",
              "      <td>No</td>\n",
              "      <td>Yes</td>\n",
              "      <td>25</td>\n",
              "      <td>265.1</td>\n",
              "      <td>110</td>\n",
              "      <td>45.07</td>\n",
              "      <td>197.4</td>\n",
              "      <td>99</td>\n",
              "      <td>16.78</td>\n",
              "      <td>244.7</td>\n",
              "      <td>91</td>\n",
              "      <td>11.01</td>\n",
              "      <td>10.0</td>\n",
              "      <td>3</td>\n",
              "      <td>2.70</td>\n",
              "      <td>1</td>\n",
              "      <td>False</td>\n",
              "    </tr>\n",
              "    <tr>\n",
              "      <th>1</th>\n",
              "      <td>OH</td>\n",
              "      <td>107</td>\n",
              "      <td>415</td>\n",
              "      <td>No</td>\n",
              "      <td>Yes</td>\n",
              "      <td>26</td>\n",
              "      <td>161.6</td>\n",
              "      <td>123</td>\n",
              "      <td>27.47</td>\n",
              "      <td>195.5</td>\n",
              "      <td>103</td>\n",
              "      <td>16.62</td>\n",
              "      <td>254.4</td>\n",
              "      <td>103</td>\n",
              "      <td>11.45</td>\n",
              "      <td>13.7</td>\n",
              "      <td>3</td>\n",
              "      <td>3.70</td>\n",
              "      <td>1</td>\n",
              "      <td>False</td>\n",
              "    </tr>\n",
              "    <tr>\n",
              "      <th>2</th>\n",
              "      <td>NJ</td>\n",
              "      <td>137</td>\n",
              "      <td>415</td>\n",
              "      <td>No</td>\n",
              "      <td>No</td>\n",
              "      <td>0</td>\n",
              "      <td>243.4</td>\n",
              "      <td>114</td>\n",
              "      <td>41.38</td>\n",
              "      <td>121.2</td>\n",
              "      <td>110</td>\n",
              "      <td>10.30</td>\n",
              "      <td>162.6</td>\n",
              "      <td>104</td>\n",
              "      <td>7.32</td>\n",
              "      <td>12.2</td>\n",
              "      <td>5</td>\n",
              "      <td>3.29</td>\n",
              "      <td>0</td>\n",
              "      <td>False</td>\n",
              "    </tr>\n",
              "    <tr>\n",
              "      <th>3</th>\n",
              "      <td>OH</td>\n",
              "      <td>84</td>\n",
              "      <td>408</td>\n",
              "      <td>Yes</td>\n",
              "      <td>No</td>\n",
              "      <td>0</td>\n",
              "      <td>299.4</td>\n",
              "      <td>71</td>\n",
              "      <td>50.90</td>\n",
              "      <td>61.9</td>\n",
              "      <td>88</td>\n",
              "      <td>5.26</td>\n",
              "      <td>196.9</td>\n",
              "      <td>89</td>\n",
              "      <td>8.86</td>\n",
              "      <td>6.6</td>\n",
              "      <td>7</td>\n",
              "      <td>1.78</td>\n",
              "      <td>2</td>\n",
              "      <td>False</td>\n",
              "    </tr>\n",
              "    <tr>\n",
              "      <th>4</th>\n",
              "      <td>OK</td>\n",
              "      <td>75</td>\n",
              "      <td>415</td>\n",
              "      <td>Yes</td>\n",
              "      <td>No</td>\n",
              "      <td>0</td>\n",
              "      <td>166.7</td>\n",
              "      <td>113</td>\n",
              "      <td>28.34</td>\n",
              "      <td>148.3</td>\n",
              "      <td>122</td>\n",
              "      <td>12.61</td>\n",
              "      <td>186.9</td>\n",
              "      <td>121</td>\n",
              "      <td>8.41</td>\n",
              "      <td>10.1</td>\n",
              "      <td>3</td>\n",
              "      <td>2.73</td>\n",
              "      <td>3</td>\n",
              "      <td>False</td>\n",
              "    </tr>\n",
              "    <tr>\n",
              "      <th>...</th>\n",
              "      <td>...</td>\n",
              "      <td>...</td>\n",
              "      <td>...</td>\n",
              "      <td>...</td>\n",
              "      <td>...</td>\n",
              "      <td>...</td>\n",
              "      <td>...</td>\n",
              "      <td>...</td>\n",
              "      <td>...</td>\n",
              "      <td>...</td>\n",
              "      <td>...</td>\n",
              "      <td>...</td>\n",
              "      <td>...</td>\n",
              "      <td>...</td>\n",
              "      <td>...</td>\n",
              "      <td>...</td>\n",
              "      <td>...</td>\n",
              "      <td>...</td>\n",
              "      <td>...</td>\n",
              "      <td>...</td>\n",
              "    </tr>\n",
              "    <tr>\n",
              "      <th>2661</th>\n",
              "      <td>SC</td>\n",
              "      <td>79</td>\n",
              "      <td>415</td>\n",
              "      <td>No</td>\n",
              "      <td>No</td>\n",
              "      <td>0</td>\n",
              "      <td>134.7</td>\n",
              "      <td>98</td>\n",
              "      <td>22.90</td>\n",
              "      <td>189.7</td>\n",
              "      <td>68</td>\n",
              "      <td>16.12</td>\n",
              "      <td>221.4</td>\n",
              "      <td>128</td>\n",
              "      <td>9.96</td>\n",
              "      <td>11.8</td>\n",
              "      <td>5</td>\n",
              "      <td>3.19</td>\n",
              "      <td>2</td>\n",
              "      <td>False</td>\n",
              "    </tr>\n",
              "    <tr>\n",
              "      <th>2662</th>\n",
              "      <td>AZ</td>\n",
              "      <td>192</td>\n",
              "      <td>415</td>\n",
              "      <td>No</td>\n",
              "      <td>Yes</td>\n",
              "      <td>36</td>\n",
              "      <td>156.2</td>\n",
              "      <td>77</td>\n",
              "      <td>26.55</td>\n",
              "      <td>215.5</td>\n",
              "      <td>126</td>\n",
              "      <td>18.32</td>\n",
              "      <td>279.1</td>\n",
              "      <td>83</td>\n",
              "      <td>12.56</td>\n",
              "      <td>9.9</td>\n",
              "      <td>6</td>\n",
              "      <td>2.67</td>\n",
              "      <td>2</td>\n",
              "      <td>False</td>\n",
              "    </tr>\n",
              "    <tr>\n",
              "      <th>2663</th>\n",
              "      <td>WV</td>\n",
              "      <td>68</td>\n",
              "      <td>415</td>\n",
              "      <td>No</td>\n",
              "      <td>No</td>\n",
              "      <td>0</td>\n",
              "      <td>231.1</td>\n",
              "      <td>57</td>\n",
              "      <td>39.29</td>\n",
              "      <td>153.4</td>\n",
              "      <td>55</td>\n",
              "      <td>13.04</td>\n",
              "      <td>191.3</td>\n",
              "      <td>123</td>\n",
              "      <td>8.61</td>\n",
              "      <td>9.6</td>\n",
              "      <td>4</td>\n",
              "      <td>2.59</td>\n",
              "      <td>3</td>\n",
              "      <td>False</td>\n",
              "    </tr>\n",
              "    <tr>\n",
              "      <th>2664</th>\n",
              "      <td>RI</td>\n",
              "      <td>28</td>\n",
              "      <td>510</td>\n",
              "      <td>No</td>\n",
              "      <td>No</td>\n",
              "      <td>0</td>\n",
              "      <td>180.8</td>\n",
              "      <td>109</td>\n",
              "      <td>30.74</td>\n",
              "      <td>288.8</td>\n",
              "      <td>58</td>\n",
              "      <td>24.55</td>\n",
              "      <td>191.9</td>\n",
              "      <td>91</td>\n",
              "      <td>8.64</td>\n",
              "      <td>14.1</td>\n",
              "      <td>6</td>\n",
              "      <td>3.81</td>\n",
              "      <td>2</td>\n",
              "      <td>False</td>\n",
              "    </tr>\n",
              "    <tr>\n",
              "      <th>2665</th>\n",
              "      <td>TN</td>\n",
              "      <td>74</td>\n",
              "      <td>415</td>\n",
              "      <td>No</td>\n",
              "      <td>Yes</td>\n",
              "      <td>25</td>\n",
              "      <td>234.4</td>\n",
              "      <td>113</td>\n",
              "      <td>39.85</td>\n",
              "      <td>265.9</td>\n",
              "      <td>82</td>\n",
              "      <td>22.60</td>\n",
              "      <td>241.4</td>\n",
              "      <td>77</td>\n",
              "      <td>10.86</td>\n",
              "      <td>13.7</td>\n",
              "      <td>4</td>\n",
              "      <td>3.70</td>\n",
              "      <td>0</td>\n",
              "      <td>False</td>\n",
              "    </tr>\n",
              "  </tbody>\n",
              "</table>\n",
              "<p>2666 rows × 20 columns</p>\n",
              "</div>\n",
              "      <button class=\"colab-df-convert\" onclick=\"convertToInteractive('df-a3a233d2-7065-43b2-a639-607262ce7ae1')\"\n",
              "              title=\"Convert this dataframe to an interactive table.\"\n",
              "              style=\"display:none;\">\n",
              "        \n",
              "  <svg xmlns=\"http://www.w3.org/2000/svg\" height=\"24px\"viewBox=\"0 0 24 24\"\n",
              "       width=\"24px\">\n",
              "    <path d=\"M0 0h24v24H0V0z\" fill=\"none\"/>\n",
              "    <path d=\"M18.56 5.44l.94 2.06.94-2.06 2.06-.94-2.06-.94-.94-2.06-.94 2.06-2.06.94zm-11 1L8.5 8.5l.94-2.06 2.06-.94-2.06-.94L8.5 2.5l-.94 2.06-2.06.94zm10 10l.94 2.06.94-2.06 2.06-.94-2.06-.94-.94-2.06-.94 2.06-2.06.94z\"/><path d=\"M17.41 7.96l-1.37-1.37c-.4-.4-.92-.59-1.43-.59-.52 0-1.04.2-1.43.59L10.3 9.45l-7.72 7.72c-.78.78-.78 2.05 0 2.83L4 21.41c.39.39.9.59 1.41.59.51 0 1.02-.2 1.41-.59l7.78-7.78 2.81-2.81c.8-.78.8-2.07 0-2.86zM5.41 20L4 18.59l7.72-7.72 1.47 1.35L5.41 20z\"/>\n",
              "  </svg>\n",
              "      </button>\n",
              "      \n",
              "  <style>\n",
              "    .colab-df-container {\n",
              "      display:flex;\n",
              "      flex-wrap:wrap;\n",
              "      gap: 12px;\n",
              "    }\n",
              "\n",
              "    .colab-df-convert {\n",
              "      background-color: #E8F0FE;\n",
              "      border: none;\n",
              "      border-radius: 50%;\n",
              "      cursor: pointer;\n",
              "      display: none;\n",
              "      fill: #1967D2;\n",
              "      height: 32px;\n",
              "      padding: 0 0 0 0;\n",
              "      width: 32px;\n",
              "    }\n",
              "\n",
              "    .colab-df-convert:hover {\n",
              "      background-color: #E2EBFA;\n",
              "      box-shadow: 0px 1px 2px rgba(60, 64, 67, 0.3), 0px 1px 3px 1px rgba(60, 64, 67, 0.15);\n",
              "      fill: #174EA6;\n",
              "    }\n",
              "\n",
              "    [theme=dark] .colab-df-convert {\n",
              "      background-color: #3B4455;\n",
              "      fill: #D2E3FC;\n",
              "    }\n",
              "\n",
              "    [theme=dark] .colab-df-convert:hover {\n",
              "      background-color: #434B5C;\n",
              "      box-shadow: 0px 1px 3px 1px rgba(0, 0, 0, 0.15);\n",
              "      filter: drop-shadow(0px 1px 2px rgba(0, 0, 0, 0.3));\n",
              "      fill: #FFFFFF;\n",
              "    }\n",
              "  </style>\n",
              "\n",
              "      <script>\n",
              "        const buttonEl =\n",
              "          document.querySelector('#df-a3a233d2-7065-43b2-a639-607262ce7ae1 button.colab-df-convert');\n",
              "        buttonEl.style.display =\n",
              "          google.colab.kernel.accessAllowed ? 'block' : 'none';\n",
              "\n",
              "        async function convertToInteractive(key) {\n",
              "          const element = document.querySelector('#df-a3a233d2-7065-43b2-a639-607262ce7ae1');\n",
              "          const dataTable =\n",
              "            await google.colab.kernel.invokeFunction('convertToInteractive',\n",
              "                                                     [key], {});\n",
              "          if (!dataTable) return;\n",
              "\n",
              "          const docLinkHtml = 'Like what you see? Visit the ' +\n",
              "            '<a target=\"_blank\" href=https://colab.research.google.com/notebooks/data_table.ipynb>data table notebook</a>'\n",
              "            + ' to learn more about interactive tables.';\n",
              "          element.innerHTML = '';\n",
              "          dataTable['output_type'] = 'display_data';\n",
              "          await google.colab.output.renderOutput(dataTable, element);\n",
              "          const docLink = document.createElement('div');\n",
              "          docLink.innerHTML = docLinkHtml;\n",
              "          element.appendChild(docLink);\n",
              "        }\n",
              "      </script>\n",
              "    </div>\n",
              "  </div>\n",
              "  "
            ]
          },
          "metadata": {},
          "execution_count": 1
        }
      ],
      "source": [
        "import numpy as np\n",
        "import pandas as pd\n",
        "import matplotlib.pyplot as plt \n",
        "import seaborn as sns\n",
        "telecom_churn = pd.read_csv('https://raw.githubusercontent.com/tariqzia5/ML_Telecom-Churn-Prediction/main/churn-bigml-80.csv')\n",
        "telecom_churn"
      ]
    },
    {
      "cell_type": "markdown",
      "metadata": {
        "id": "osSlztqiAjoU"
      },
      "source": [
        "# **EXPLORE DATA**"
      ]
    },
    {
      "cell_type": "markdown",
      "metadata": {
        "id": "VCc2bTuMAwPG"
      },
      "source": [
        "**INFO**"
      ]
    },
    {
      "cell_type": "code",
      "execution_count": 2,
      "metadata": {
        "id": "DBKPZdliAd6M",
        "outputId": "902f3e35-e6a3-4574-8873-7148fb37e569",
        "colab": {
          "base_uri": "https://localhost:8080/"
        }
      },
      "outputs": [
        {
          "output_type": "stream",
          "name": "stdout",
          "text": [
            "<class 'pandas.core.frame.DataFrame'>\n",
            "RangeIndex: 2666 entries, 0 to 2665\n",
            "Data columns (total 20 columns):\n",
            " #   Column                  Non-Null Count  Dtype  \n",
            "---  ------                  --------------  -----  \n",
            " 0   State                   2666 non-null   object \n",
            " 1   Account length          2666 non-null   int64  \n",
            " 2   Area code               2666 non-null   int64  \n",
            " 3   International plan      2666 non-null   object \n",
            " 4   Voice mail plan         2666 non-null   object \n",
            " 5   Number vmail messages   2666 non-null   int64  \n",
            " 6   Total day minutes       2666 non-null   float64\n",
            " 7   Total day calls         2666 non-null   int64  \n",
            " 8   Total day charge        2666 non-null   float64\n",
            " 9   Total eve minutes       2666 non-null   float64\n",
            " 10  Total eve calls         2666 non-null   int64  \n",
            " 11  Total eve charge        2666 non-null   float64\n",
            " 12  Total night minutes     2666 non-null   float64\n",
            " 13  Total night calls       2666 non-null   int64  \n",
            " 14  Total night charge      2666 non-null   float64\n",
            " 15  Total intl minutes      2666 non-null   float64\n",
            " 16  Total intl calls        2666 non-null   int64  \n",
            " 17  Total intl charge       2666 non-null   float64\n",
            " 18  Customer service calls  2666 non-null   int64  \n",
            " 19  Churn                   2666 non-null   bool   \n",
            "dtypes: bool(1), float64(8), int64(8), object(3)\n",
            "memory usage: 398.5+ KB\n"
          ]
        }
      ],
      "source": [
        "telecom_churn.info() #to identify data types"
      ]
    },
    {
      "cell_type": "code",
      "execution_count": null,
      "metadata": {
        "id": "fmwCnSIyA0hE"
      },
      "outputs": [],
      "source": [
        "telecom_churn.shape # No. of Rows and Columns"
      ]
    },
    {
      "cell_type": "markdown",
      "metadata": {
        "id": "YlETsxL4BRDT"
      },
      "source": [
        "# **DATA DICTIONARY**\n",
        "\n",
        "1. STATE - STRING (US States-- AZ, WA, LA, IN, NY...); should be 51 only\n",
        "2. ACCOUNT LENGTH - INTEGER (NO OF DAYS, I.E., HOW OLD IS THE ACCOUNT?)\n",
        "3. AREA CODE - INTEGER (STATE CODE)\n",
        "4. INTENATIONAL PLAN - STRING (YES OR NO; DESCRIBES IF THE CUSTOMER HAS A SUBSCRIBED TO AN INTERNATIONAL PLAN OR NOT)\n",
        "5. VOICE MAIL PLAN - STRING (YES OR NO; HAS THE CUSTOMER SUBSCRIBED TO VOICE MAIL FEATURE)\n",
        "6. NUMBER OF VMAIL MESSAGES - INTEGER (NO. OF VOICE MAIL MESSAGES)\n",
        "7. TOTAL DAY MINUTES - FLOAT (NUMBER OF VOICE MINUTES USED IN A DAY)\n",
        "8. TOTAL DAY CALLS - INTEGER (NUMBER OF CALLS MADE IN A DAY)\n",
        "9. TOTAL DAY CHARGE - FLOAT (DAY CHARGE CACULATED BASED ON NUMBER OF CALLS MADE IN A DAY)\n",
        "10. TOTAL EVE MINUTES - FLOAT (TOTAL CALL LENGHT IN THE EVENING)\n",
        "11. TOTAL EVE CALLS - INTEGER (TOTAL NUMBER OF CALLS MADE IN THE EVENING)\n",
        "12. TOTAL EVE CHARGE - FLOAT (TOTAL CHARGE FOR CALLS MADE IN THE EVENING)\n",
        "13. TOTAL NIGHT MINUTES - FLOAT (TOTAL LENGTH OF THE CALL AFTER 9PM; FREE UNLIMITED TIME)\n",
        "14. TOTAL NIGHT CALLS - INTEGER (TOTAL NUMBER OF CALLS MADE AT NIGHT)\n",
        "15. TOTAL NIGHT CHARGE - FLOAT (TOTAL COST OF NIGHT CALLS)\n",
        "16. TOTAL INTL MINUTES - FLOAT (TOTAL NUMBER OF MINUTES FOR INTERNATIONAL CALLS)\n",
        "17. TOTAL INTL CALLS - INTEGER (TOTAL NUMBER OF INTERNATIONAL CALLS)\n",
        "18. TOTAL INTL CHARGES - FLOAT (TOTAL CHARGE FOR INTERNATIONAL CALLS)\n",
        "19. CUSTOMER SERVICE CALLS - INTERGER (TOTAL NUMBER OF CALLS MADE TO CUSTOMER SERVICE CENTER)\n",
        "20. CHURN - BOOLEAN (TRUE = CHURN OR FALSE = NO CHURN)\n",
        "\n",
        "**DATA TYPES:**\n",
        "\n",
        "THERE ARE TOTAL OF # OF BOOLEAN VARAIBLES (1), # OF FLOAT64 (8), # OF INT64 (8), AND OBJECT (3)\n",
        "\n"
      ]
    },
    {
      "cell_type": "markdown",
      "metadata": {
        "id": "xsYuk3kn_rUj"
      },
      "source": [
        "**CONVERT NON-NUMERICAL DATA INTO NUMERICAL**"
      ]
    },
    {
      "cell_type": "code",
      "execution_count": null,
      "metadata": {
        "id": "CBaYsdep_oZR"
      },
      "outputs": [],
      "source": [
        "telecom_churn['Churn_num']  = telecom_churn['Churn'].replace({False : 0, True: 1})\n",
        "print(telecom_churn['Churn'].value_counts())\n",
        "print(telecom_churn['Churn_num'].value_counts())"
      ]
    },
    {
      "cell_type": "code",
      "execution_count": null,
      "metadata": {
        "id": "-1z2-WjxEUnr"
      },
      "outputs": [],
      "source": [
        "telecom_churn['Intl_plan_num']  = telecom_churn['International plan'].map({'No' : 0, 'Yes': 1}).astype(int)\n",
        "print(telecom_churn['International plan'].value_counts())\n",
        "print(telecom_churn['Intl_plan_num'].value_counts())"
      ]
    },
    {
      "cell_type": "code",
      "execution_count": null,
      "metadata": {
        "id": "lv2OsOa7E4Zy"
      },
      "outputs": [],
      "source": [
        "telecom_churn['Vmail_plan_num']  = telecom_churn['Voice mail plan'].map({'No' : 0, 'Yes': 1}).astype(int)\n",
        "print(telecom_churn['Voice mail plan'].value_counts())\n",
        "print(telecom_churn['Vmail_plan_num'].value_counts())"
      ]
    },
    {
      "cell_type": "code",
      "execution_count": null,
      "metadata": {
        "id": "j_kacBs_CKOi"
      },
      "outputs": [],
      "source": [
        "telecom_churn.info()"
      ]
    },
    {
      "cell_type": "code",
      "execution_count": null,
      "metadata": {
        "id": "RIKNUXb7CR2J"
      },
      "outputs": [],
      "source": [
        "telecom_churn"
      ]
    },
    {
      "cell_type": "code",
      "execution_count": null,
      "metadata": {
        "id": "Nlya1SUlCi-v"
      },
      "outputs": [],
      "source": [
        "telecom_churn.columns.values"
      ]
    },
    {
      "cell_type": "code",
      "execution_count": null,
      "metadata": {
        "id": "6Qmo_yCiCjbb"
      },
      "outputs": [],
      "source": [
        "telecom_churn.head(10) #first 10 observations; looking at first few observations"
      ]
    },
    {
      "cell_type": "code",
      "execution_count": null,
      "metadata": {
        "id": "oWr2kx9CCm5h"
      },
      "outputs": [],
      "source": [
        "telecom_churn.tail(10) #looking at last few observations"
      ]
    },
    {
      "cell_type": "code",
      "execution_count": null,
      "metadata": {
        "id": "VAtCZXaEDDGr"
      },
      "outputs": [],
      "source": [
        "#SUMMARY OF NUMERICAL COLUMNS\n",
        "telecom_churn.describe() "
      ]
    },
    {
      "cell_type": "code",
      "execution_count": null,
      "metadata": {
        "id": "2Q3Q3ePsDGoz"
      },
      "outputs": [],
      "source": [
        "#Numerical Columns\n",
        "num_vars = telecom_churn.columns[telecom_churn.dtypes != 'object']\n",
        "#Non Numerical Columns\n",
        "cat_vars = telecom_churn.columns[telecom_churn.dtypes == 'object']\n",
        "print(num_vars)\n",
        "print(cat_vars)"
      ]
    },
    {
      "cell_type": "code",
      "execution_count": null,
      "metadata": {
        "id": "mvBi-v0pDJkZ"
      },
      "outputs": [],
      "source": [
        "#CHECKING THE MISSING VALUE\n",
        "telecom_churn[num_vars].isnull().sum().sort_values(ascending = False)/len(telecom_churn)"
      ]
    },
    {
      "cell_type": "code",
      "execution_count": null,
      "metadata": {
        "id": "TK65RbEHDNER"
      },
      "outputs": [],
      "source": [
        "telecom_churn[cat_vars].isnull().sum().sort_values(ascending = False)/len(telecom_churn)"
      ]
    },
    {
      "cell_type": "markdown",
      "metadata": {
        "id": "IAM6SMxnDRd3"
      },
      "source": [
        "**NONE OF THE COLUMNS HAVE MISSING VALUES**"
      ]
    },
    {
      "cell_type": "markdown",
      "metadata": {
        "id": "dToedmA_DcFI"
      },
      "source": [
        "# **EXPLORING VARIABLES**"
      ]
    },
    {
      "cell_type": "markdown",
      "metadata": {
        "id": "VRW5gqtrGIZ8"
      },
      "source": [
        "## **PLOTS**"
      ]
    },
    {
      "cell_type": "code",
      "execution_count": null,
      "metadata": {
        "id": "CSN6XQ8PDQUN"
      },
      "outputs": [],
      "source": [
        "print(telecom_churn['Churn_num'].value_counts())"
      ]
    },
    {
      "cell_type": "code",
      "execution_count": null,
      "metadata": {
        "id": "tasREBsGDUr3"
      },
      "outputs": [],
      "source": [
        "sns.countplot(x=\"Churn_num\", data = telecom_churn)\n",
        "#sns.barplot(x = 'Churn')"
      ]
    },
    {
      "cell_type": "markdown",
      "metadata": {
        "id": "_KmMhPUTEBrl"
      },
      "source": [
        "**MOST CUSTOMERS DON'T SEEM TO LEAVE THE SERVICE PROVIDER**"
      ]
    },
    {
      "cell_type": "code",
      "execution_count": null,
      "metadata": {
        "id": "aDf41hLeD_Md"
      },
      "outputs": [],
      "source": [
        "print(telecom_churn['Intl_plan_num'].value_counts())"
      ]
    },
    {
      "cell_type": "code",
      "execution_count": null,
      "metadata": {
        "id": "52DqUMAsELU9"
      },
      "outputs": [],
      "source": [
        "print(telecom_churn['Intl_plan_num'].value_counts())\n",
        "sns.countplot(x=\"Intl_plan_num\", order= telecom_churn['Intl_plan_num'].value_counts(ascending = False).index, data = telecom_churn)"
      ]
    },
    {
      "cell_type": "code",
      "execution_count": null,
      "metadata": {
        "id": "kK-3yWVjFYbS"
      },
      "outputs": [],
      "source": [
        "print(telecom_churn['Vmail_plan_num'].value_counts())\n",
        "sns.countplot(x=\"Vmail_plan_num\", data = telecom_churn)"
      ]
    },
    {
      "cell_type": "code",
      "execution_count": null,
      "metadata": {
        "id": "4VgBeYAuFhLe"
      },
      "outputs": [],
      "source": [
        "print(telecom_churn['Customer service calls'].value_counts())\n",
        "sns.countplot(y=\"Customer service calls\", data = telecom_churn)"
      ]
    },
    {
      "cell_type": "code",
      "execution_count": null,
      "metadata": {
        "id": "hzEJXf26FlL3"
      },
      "outputs": [],
      "source": [
        "sns.barplot(x = 'Churn_num', y = 'Customer service calls', data = telecom_churn) "
      ]
    },
    {
      "cell_type": "markdown",
      "metadata": {
        "id": "fPtlAd9yFrSK"
      },
      "source": [
        "**ChURNED CUSTOMERS HAVE MADE MORE CALLS TO CUSTOMER SERVICE CENTERS**"
      ]
    },
    {
      "cell_type": "code",
      "execution_count": null,
      "metadata": {
        "id": "gN8sUR5LFoKJ"
      },
      "outputs": [],
      "source": [
        "sns.barplot(x = 'Churn_num', y = 'Intl_plan_num', data = telecom_churn)"
      ]
    },
    {
      "cell_type": "code",
      "execution_count": null,
      "metadata": {
        "id": "8yxSWiCQGAj4"
      },
      "outputs": [],
      "source": [
        "sns.barplot(x = 'Churn_num', y = 'Vmail_plan_num', data = telecom_churn)"
      ]
    },
    {
      "cell_type": "code",
      "execution_count": null,
      "metadata": {
        "id": "8uBEOcvcGOXf"
      },
      "outputs": [],
      "source": [
        "sns.barplot(x = 'Churn_num', y = 'Account length', data = telecom_churn)"
      ]
    },
    {
      "cell_type": "markdown",
      "metadata": {
        "id": "kfC4JdS_GURR"
      },
      "source": [
        "## **DATA DISTRIBUTION - HISTOGRAMS**"
      ]
    },
    {
      "cell_type": "code",
      "execution_count": null,
      "metadata": {
        "id": "fw_0-mg_GTRw"
      },
      "outputs": [],
      "source": [
        "telecom_churn.hist(figsize = (15,15))"
      ]
    },
    {
      "cell_type": "markdown",
      "metadata": {
        "id": "5bxFZGrYGgYu"
      },
      "source": [
        "## **EXPLORING VARIABLE - ACCOUNT LENGTH**\n"
      ]
    },
    {
      "cell_type": "code",
      "execution_count": null,
      "metadata": {
        "id": "CDnTM_J3HEci"
      },
      "outputs": [],
      "source": [
        "plt.boxplot(telecom_churn[\"Account length\"])"
      ]
    },
    {
      "cell_type": "code",
      "execution_count": null,
      "metadata": {
        "id": "X9ybej6XHI6p"
      },
      "outputs": [],
      "source": [
        "account_percentile=telecom_churn['Account length'].quantile([0.05, 0.1, 0.25, 0.5, 0.75, 0.80, 0.9,0.91,0.95,0.96,0.97,0.975,0.98,0.99,1])\n",
        "round(account_percentile,2)"
      ]
    },
    {
      "cell_type": "code",
      "execution_count": null,
      "metadata": {
        "id": "26MXAtnWHMo5"
      },
      "outputs": [],
      "source": [
        "account_percentile=telecom_churn['Account length'].quantile([0.05, 0.1, 0.25, 0.5, 0.75, 0.80, 0.9,0.91,0.95,0.96,0.97,0.975,0.98,0.99,1])\n",
        "round(account_percentile,2)"
      ]
    },
    {
      "cell_type": "code",
      "execution_count": null,
      "metadata": {
        "id": "z-p-WeTSHOU3"
      },
      "outputs": [],
      "source": [
        "telecom_churn['Account length'].describe()"
      ]
    },
    {
      "cell_type": "markdown",
      "metadata": {
        "id": "P4FwkTBsHVNo"
      },
      "source": [
        "**The data spread is uniform. Replacing the 100percentile with the median**"
      ]
    },
    {
      "cell_type": "code",
      "execution_count": null,
      "metadata": {
        "id": "-DA2KpX6HSDX"
      },
      "outputs": [],
      "source": [
        "median_Acc_length=telecom_churn['Account length'].median()\n",
        "telecom_churn['Account_length_new']=telecom_churn['Account length']\n",
        "telecom_churn['Account_length_new'][telecom_churn['Account_length_new']>194] = median_Acc_length"
      ]
    },
    {
      "cell_type": "code",
      "execution_count": null,
      "metadata": {
        "id": "WFMLvHWrHqUx"
      },
      "outputs": [],
      "source": [
        "telecom_churn.info()"
      ]
    },
    {
      "cell_type": "code",
      "execution_count": null,
      "metadata": {
        "id": "94JXLnPz1jWw"
      },
      "outputs": [],
      "source": [
        "telecom_churn.info()"
      ]
    },
    {
      "cell_type": "markdown",
      "metadata": {
        "id": "1Iric2RcGkQT"
      },
      "source": [
        "## **EXPLORING VARIABLE - AREA CODES**"
      ]
    },
    {
      "cell_type": "code",
      "execution_count": null,
      "metadata": {
        "id": "rECdFsYTH_U8"
      },
      "outputs": [],
      "source": [
        "plt.boxplot(telecom_churn[\"Area code\"])"
      ]
    },
    {
      "cell_type": "code",
      "execution_count": null,
      "metadata": {
        "id": "Uu1MyHCAH_YV"
      },
      "outputs": [],
      "source": [
        "plt.hist(telecom_churn[\"Area code\"])"
      ]
    },
    {
      "cell_type": "code",
      "execution_count": null,
      "metadata": {
        "id": "O1XEJJ2jH_bz"
      },
      "outputs": [],
      "source": [
        "telecom_churn['Area code'].unique()"
      ]
    },
    {
      "cell_type": "markdown",
      "metadata": {
        "id": "_yV-waJ8Gwgr"
      },
      "source": [
        "## **EXPLORING VARIABLE - NUMBER VMAIL MESSAGES**"
      ]
    },
    {
      "cell_type": "code",
      "execution_count": null,
      "metadata": {
        "id": "yuKGBeRsIH_4"
      },
      "outputs": [],
      "source": [
        "plt.boxplot(telecom_churn[\"Number vmail messages\"])"
      ]
    },
    {
      "cell_type": "code",
      "execution_count": null,
      "metadata": {
        "id": "dUF5E1i3IIGL"
      },
      "outputs": [],
      "source": [
        "vmail_percentile=telecom_churn['Number vmail messages'].quantile([0.05, 0.1, 0.25, 0.5, 0.6,0.65,0.75, 0.80, 0.9,0.91,0.95,0.96,0.97,0.975,0.98,0.99,1])\n",
        "round(vmail_percentile,2)"
      ]
    },
    {
      "cell_type": "code",
      "execution_count": null,
      "metadata": {
        "id": "MFpcRlSDIIJc"
      },
      "outputs": [],
      "source": [
        "telecom_churn['Number vmail messages'].mean()"
      ]
    },
    {
      "cell_type": "code",
      "execution_count": null,
      "metadata": {
        "id": "Tqe3oOeNIPBa"
      },
      "outputs": [],
      "source": [
        "telecom_churn['Number vmail messages'].median()"
      ]
    },
    {
      "cell_type": "code",
      "execution_count": null,
      "metadata": {
        "id": "QxV9l3_oISSt"
      },
      "outputs": [],
      "source": [
        "mean_vmail=telecom_churn['Number vmail messages'].mean()\n",
        "telecom_churn['number_vmail_new']=telecom_churn['Number vmail messages']\n",
        "telecom_churn['number_vmail_new'][telecom_churn['number_vmail_new'] < 19 ] = mean_vmail"
      ]
    },
    {
      "cell_type": "code",
      "execution_count": null,
      "metadata": {
        "id": "fRpOtLZhIoR-"
      },
      "outputs": [],
      "source": [
        "plt.boxplot(telecom_churn[\"number_vmail_new\"])"
      ]
    },
    {
      "cell_type": "code",
      "execution_count": null,
      "metadata": {
        "id": "RXq5JJGAI3j0"
      },
      "outputs": [],
      "source": [
        "telecom_churn.drop(['number_vmail_new'], axis =1)"
      ]
    },
    {
      "cell_type": "code",
      "execution_count": null,
      "metadata": {
        "id": "s5M_hIdO2TAF"
      },
      "outputs": [],
      "source": [
        "telecom_churn.info()"
      ]
    },
    {
      "cell_type": "markdown",
      "metadata": {
        "id": "ZWzFmwmoG1ZI"
      },
      "source": [
        "## **EXPLORING VARIABLE - TOTAL DAY MINUTES**"
      ]
    },
    {
      "cell_type": "code",
      "execution_count": null,
      "metadata": {
        "id": "Yai8fmbyGfzf"
      },
      "outputs": [],
      "source": [
        "plt.boxplot(telecom_churn[\"Total day minutes\"])"
      ]
    },
    {
      "cell_type": "code",
      "execution_count": null,
      "metadata": {
        "id": "B_bEg0MLI9y1"
      },
      "outputs": [],
      "source": [
        "day_minutes_percentile=telecom_churn['Total day minutes'].quantile([0,0.01,0.1,0.2,0.3,0.4,0.5,0.6,0.7,0.8,0.9,0.91,0.92,0.93,0.94,0.95,0.96,0.97,0.98,0.99,0.991,0.992,0.993,0.994,0.995,0.996,0.997,0.998,0.999,1])\n",
        "round(day_minutes_percentile,2)"
      ]
    },
    {
      "cell_type": "code",
      "execution_count": null,
      "metadata": {
        "id": "nAY3xSlgI9tA"
      },
      "outputs": [],
      "source": [
        "telecom_churn['Total day minutes'].mean()"
      ]
    },
    {
      "cell_type": "code",
      "execution_count": null,
      "metadata": {
        "id": "pTsaXCuEJCAU"
      },
      "outputs": [],
      "source": [
        "telecom_churn['Total day minutes'].median()"
      ]
    },
    {
      "cell_type": "markdown",
      "metadata": {
        "id": "a3eKuxGiJDqm"
      },
      "source": [
        "Box plot is clearly visible, hence not treating outliers"
      ]
    },
    {
      "cell_type": "markdown",
      "metadata": {
        "id": "Gvr4VRPyJLdO"
      },
      "source": [
        "## **EXPLORING VARIABLE - TOTAL DAY CALLS**"
      ]
    },
    {
      "cell_type": "code",
      "execution_count": null,
      "metadata": {
        "id": "Pg9exIbGJO8f"
      },
      "outputs": [],
      "source": [
        "plt.boxplot(telecom_churn[\"Total day calls\"])"
      ]
    },
    {
      "cell_type": "code",
      "execution_count": null,
      "metadata": {
        "id": "IMSCCXvdJQuy"
      },
      "outputs": [],
      "source": [
        "day_calls_percentile=telecom_churn['Total day calls'].quantile([0,0.01,0.1,0.2,0.3,0.4,0.5,0.6,0.7,0.8,0.9,0.91,0.92,0.93,0.94,0.95,0.96,0.97,0.98,0.99,0.991,0.992,0.993,0.994,0.995,0.996,0.997,0.998,0.999,1])\n",
        "round(day_calls_percentile,2)"
      ]
    },
    {
      "cell_type": "code",
      "execution_count": null,
      "metadata": {
        "id": "e7UGfgAPJTe8"
      },
      "outputs": [],
      "source": [
        "telecom_churn['Total day calls'].mean()"
      ]
    },
    {
      "cell_type": "code",
      "execution_count": null,
      "metadata": {
        "id": "IaCXZZprJT9L"
      },
      "outputs": [],
      "source": [
        "telecom_churn['Total day calls'].median()"
      ]
    },
    {
      "cell_type": "markdown",
      "metadata": {
        "id": "ltuqrn12JZnG"
      },
      "source": [
        "**box plot is clearly visible, hence not treating outliers**"
      ]
    },
    {
      "cell_type": "markdown",
      "metadata": {
        "id": "NooJPXjFJa-V"
      },
      "source": [
        "## **EXPLORING VARIABLE - TOTAL DAY CHARGE**"
      ]
    },
    {
      "cell_type": "code",
      "execution_count": null,
      "metadata": {
        "id": "lSU5Je5_Jh91"
      },
      "outputs": [],
      "source": [
        "plt.boxplot(telecom_churn[\"Total day charge\"])"
      ]
    },
    {
      "cell_type": "code",
      "execution_count": null,
      "metadata": {
        "id": "wAM9Sq_0JiCO"
      },
      "outputs": [],
      "source": [
        "day_charge_percentile=telecom_churn['Total day charge'].quantile([0,0.01,0.1,0.2,0.3,0.4,0.5,0.6,0.7,0.8,0.9,0.91,0.92,0.93,0.94,0.95,0.96,0.97,0.98,0.99,0.991,0.992,0.993,0.994,0.995,0.996,0.997,0.998,0.999,1])\n",
        "round(day_charge_percentile,2)"
      ]
    },
    {
      "cell_type": "code",
      "execution_count": null,
      "metadata": {
        "id": "7WweBeFRJiFR"
      },
      "outputs": [],
      "source": [
        "telecom_churn['Total day charge'].mean()"
      ]
    },
    {
      "cell_type": "code",
      "execution_count": null,
      "metadata": {
        "id": "B4dbyryPJiPM"
      },
      "outputs": [],
      "source": [
        "telecom_churn['Total day charge'].median()"
      ]
    },
    {
      "cell_type": "markdown",
      "metadata": {
        "id": "ozRIMrBFJt4g"
      },
      "source": [
        "**Box plot is clear; not treating for outliers**"
      ]
    },
    {
      "cell_type": "markdown",
      "metadata": {
        "id": "2FrBgFB6J0Pk"
      },
      "source": [
        "## **EXPLORING VARIABLE = TOTAL EVE MINUTES**"
      ]
    },
    {
      "cell_type": "code",
      "execution_count": null,
      "metadata": {
        "id": "2sB0LsyhJx8P"
      },
      "outputs": [],
      "source": [
        "plt.boxplot(telecom_churn[\"Total eve minutes\"])"
      ]
    },
    {
      "cell_type": "code",
      "execution_count": null,
      "metadata": {
        "id": "Pi7R-76gJ2Xn"
      },
      "outputs": [],
      "source": [
        "eve_minutes_percentile=telecom_churn['Total eve minutes'].quantile([0,0.01,0.1,0.2,0.3,0.4,0.5,0.6,0.7,0.8,0.9,0.91,0.92,0.93,0.94,0.95,0.96,0.97,0.98,0.99,0.991,0.992,0.993,0.994,0.995,0.996,0.997,0.998,0.999,1])\n",
        "round(eve_minutes_percentile,2)"
      ]
    },
    {
      "cell_type": "code",
      "execution_count": null,
      "metadata": {
        "id": "I336ijvfJ2ag"
      },
      "outputs": [],
      "source": [
        "telecom_churn['Total eve minutes'].mean()"
      ]
    },
    {
      "cell_type": "code",
      "execution_count": null,
      "metadata": {
        "id": "Opv6IRC-J2da"
      },
      "outputs": [],
      "source": [
        "telecom_churn['Total eve minutes'].median()"
      ]
    },
    {
      "cell_type": "markdown",
      "metadata": {
        "id": "T0Wp69oqKBd_"
      },
      "source": [
        "**not treating any outliers**"
      ]
    },
    {
      "cell_type": "markdown",
      "metadata": {
        "id": "6ihlKNIJKBFv"
      },
      "source": [
        "## **EXPLORING VARIABLE - TOTAL EVE CALLS**"
      ]
    },
    {
      "cell_type": "code",
      "execution_count": null,
      "metadata": {
        "id": "faIQdoEvJ2jA"
      },
      "outputs": [],
      "source": [
        "plt.boxplot(telecom_churn[\"Total eve calls\"])"
      ]
    },
    {
      "cell_type": "code",
      "execution_count": null,
      "metadata": {
        "id": "6Pa9fpEAKKNN"
      },
      "outputs": [],
      "source": [
        "eve_calls_percentile=telecom_churn['Total eve calls'].quantile([0,0.01,0.1,0.2,0.3,0.4,0.5,0.6,0.7,0.8,0.9,0.91,0.92,0.93,0.94,0.95,0.96,0.97,0.98,0.99,0.991,0.992,0.993,0.994,0.995,0.996,0.997,0.998,0.999,1])\n",
        "round(eve_calls_percentile,2)"
      ]
    },
    {
      "cell_type": "code",
      "execution_count": null,
      "metadata": {
        "id": "P0CXpA2KKKQW"
      },
      "outputs": [],
      "source": [
        "telecom_churn['Total eve calls'].mean()"
      ]
    },
    {
      "cell_type": "code",
      "execution_count": null,
      "metadata": {
        "id": "Z1VVioMcKNgN"
      },
      "outputs": [],
      "source": [
        "telecom_churn['Total eve calls'].median()"
      ]
    },
    {
      "cell_type": "code",
      "execution_count": null,
      "metadata": {
        "id": "0l7KZEc3KPVy"
      },
      "outputs": [],
      "source": [
        "median_eve_calls=telecom_churn['Total eve calls'].median()\n",
        "telecom_churn['Total_eve_calls_new']=telecom_churn['Total eve calls']\n",
        "telecom_churn['Total_eve_calls_new'][telecom_churn['Total_eve_calls_new'] > 156.34] = median_eve_calls"
      ]
    },
    {
      "cell_type": "code",
      "execution_count": null,
      "metadata": {
        "id": "Y9d1d_uvKaSu"
      },
      "outputs": [],
      "source": [
        "telecom_churn['Total_eve_calls_new'].describe()"
      ]
    },
    {
      "cell_type": "markdown",
      "metadata": {
        "id": "i-wtvqi4Ka7d"
      },
      "source": [
        "## **EXPLORE VARIABLE - TOTAL EVE CHARGE**"
      ]
    },
    {
      "cell_type": "code",
      "execution_count": null,
      "metadata": {
        "id": "9qlzYSBGKeGV"
      },
      "outputs": [],
      "source": [
        "plt.boxplot(telecom_churn[\"Total eve charge\"])"
      ]
    },
    {
      "cell_type": "code",
      "execution_count": null,
      "metadata": {
        "id": "559AfGM7KfaC"
      },
      "outputs": [],
      "source": [
        "eve_charge_percentile=telecom_churn['Total eve charge'].quantile([0,0.01,0.1,0.2,0.3,0.4,0.5,0.6,0.7,0.8,0.9,0.91,0.92,0.93,0.94,0.95,0.96,0.97,0.98,0.99,0.991,0.992,0.993,0.994,0.995,0.996,0.997,0.998,0.999,1])\n",
        "round(eve_charge_percentile,2)"
      ]
    },
    {
      "cell_type": "code",
      "execution_count": null,
      "metadata": {
        "id": "qxF2H7BVKfdE"
      },
      "outputs": [],
      "source": [
        "telecom_churn['Total eve charge'].mean()"
      ]
    },
    {
      "cell_type": "code",
      "execution_count": null,
      "metadata": {
        "id": "TpW6cESoKjL-"
      },
      "outputs": [],
      "source": [
        "telecom_churn['Total eve charge'].median()"
      ]
    },
    {
      "cell_type": "markdown",
      "metadata": {
        "id": "kCF3hhCgKpKe"
      },
      "source": [
        "**data is evenly spread out and box plot is also clear, not treating for outliers**"
      ]
    },
    {
      "cell_type": "markdown",
      "metadata": {
        "id": "xjres5eBKqZh"
      },
      "source": [
        "## **EXPLORE VARIABLE - TOTAL NIGHT MINUTES**"
      ]
    },
    {
      "cell_type": "code",
      "execution_count": null,
      "metadata": {
        "id": "azxlNV5oKsw3"
      },
      "outputs": [],
      "source": [
        "plt.boxplot(telecom_churn[\"Total night minutes\"])"
      ]
    },
    {
      "cell_type": "code",
      "execution_count": null,
      "metadata": {
        "id": "eoevcVdDKsz1"
      },
      "outputs": [],
      "source": [
        "night_min_percentile=telecom_churn['Total night minutes'].quantile([0,0.01,0.1,0.2,0.3,0.4,0.5,0.6,0.7,0.8,0.9,0.91,0.92,0.93,0.94,0.95,0.96,0.97,0.98,0.99,0.991,0.992,0.993,0.994,0.995,0.996,0.997,0.998,0.999,1])\n",
        "round(night_min_percentile,2)"
      ]
    },
    {
      "cell_type": "code",
      "execution_count": null,
      "metadata": {
        "id": "KeGN3YTNKs2z"
      },
      "outputs": [],
      "source": [
        "telecom_churn['Total night minutes'].mean()"
      ]
    },
    {
      "cell_type": "code",
      "execution_count": null,
      "metadata": {
        "id": "S8qt4ZfLKzMi"
      },
      "outputs": [],
      "source": [
        "telecom_churn['Total night minutes'].median()"
      ]
    },
    {
      "cell_type": "markdown",
      "metadata": {
        "id": "ghI1lSMPK7q1"
      },
      "source": [
        "**not treating for outliers, data is evenly spreadout. box plot is clear**"
      ]
    },
    {
      "cell_type": "markdown",
      "metadata": {
        "id": "KiPa_zH1K7n5"
      },
      "source": [
        "## **EXPLORING VARIABLE - TOTAL NIGHT CALLS**"
      ]
    },
    {
      "cell_type": "code",
      "execution_count": null,
      "metadata": {
        "id": "w2uXVYtbLBB2"
      },
      "outputs": [],
      "source": [
        "plt.boxplot(telecom_churn[\"Total night calls\"])"
      ]
    },
    {
      "cell_type": "code",
      "execution_count": null,
      "metadata": {
        "id": "RKzKNikxLBFV"
      },
      "outputs": [],
      "source": [
        "night_calls_percentile=telecom_churn['Total night calls'].quantile([0,0.01,0.1,0.2,0.3,0.4,0.5,0.6,0.7,0.8,0.9,0.91,0.92,0.93,0.94,0.95,0.96,0.97,0.98,0.99,0.991,0.992,0.993,0.994,0.995,0.996,0.997,0.998,0.999,1])\n",
        "round(night_calls_percentile,2)"
      ]
    },
    {
      "cell_type": "code",
      "execution_count": null,
      "metadata": {
        "id": "MKnMVtDDLBIh"
      },
      "outputs": [],
      "source": [
        "telecom_churn['Total night calls'].mean()"
      ]
    },
    {
      "cell_type": "code",
      "execution_count": null,
      "metadata": {
        "id": "-eKbqu3aLBLr"
      },
      "outputs": [],
      "source": [
        "telecom_churn['Total night calls'].median()"
      ]
    },
    {
      "cell_type": "markdown",
      "metadata": {
        "id": "XDEWZkGGLMMY"
      },
      "source": [
        "**data is evenly spead out, box plot is clear, not treating outliers**"
      ]
    },
    {
      "cell_type": "markdown",
      "metadata": {
        "id": "crY6wWyMLMAZ"
      },
      "source": [
        "## **EXPLORING VARIABLE - TOTAL NIGHT CHARGE**"
      ]
    },
    {
      "cell_type": "code",
      "execution_count": null,
      "metadata": {
        "id": "Ap2tsZ1cLLUI"
      },
      "outputs": [],
      "source": [
        "plt.boxplot(telecom_churn[\"Total night charge\"])"
      ]
    },
    {
      "cell_type": "code",
      "execution_count": null,
      "metadata": {
        "id": "FC37BaLXLUGi"
      },
      "outputs": [],
      "source": [
        "night_charge_percentile=telecom_churn['Total night charge'].quantile([0,0.01,0.1,0.2,0.3,0.4,0.5,0.6,0.7,0.8,0.9,0.91,0.92,0.93,0.94,0.95,0.96,0.97,0.98,0.99,0.991,0.992,0.993,0.994,0.995,0.996,0.997,0.998,0.999,1])\n",
        "round(night_charge_percentile,2)"
      ]
    },
    {
      "cell_type": "code",
      "execution_count": null,
      "metadata": {
        "id": "MV-eqZw3LUJW"
      },
      "outputs": [],
      "source": [
        "telecom_churn['Total night charge'].mean()"
      ]
    },
    {
      "cell_type": "code",
      "execution_count": null,
      "metadata": {
        "id": "WjD1Wh6TLXXC"
      },
      "outputs": [],
      "source": [
        "telecom_churn['Total night charge'].median()"
      ]
    },
    {
      "cell_type": "markdown",
      "metadata": {
        "id": "ypNPhYA6LcKY"
      },
      "source": [
        "**data is spread out evenly, box plot is clear, not treating for outlier**"
      ]
    },
    {
      "cell_type": "markdown",
      "metadata": {
        "id": "KTvqIbUDLewi"
      },
      "source": [
        "## **EXPLORING VARIABLE - TOTAL INTL MINUTES**"
      ]
    },
    {
      "cell_type": "code",
      "execution_count": null,
      "metadata": {
        "id": "HxIIJAi8Lg5B"
      },
      "outputs": [],
      "source": [
        "plt.boxplot(telecom_churn[\"Total intl minutes\"])"
      ]
    },
    {
      "cell_type": "code",
      "execution_count": null,
      "metadata": {
        "id": "aqRCwdaCLhI5"
      },
      "outputs": [],
      "source": [
        "intl_min_percentile=telecom_churn['Total intl minutes'].quantile([0,0.01,0.1,0.2,0.3,0.4,0.5,0.6,0.7,0.8,0.9,0.91,0.92,0.93,0.94,0.95,0.96,0.97,0.98,0.99,0.991,0.992,0.993,0.994,0.995,0.996,0.997,0.998,0.999,1])\n",
        "round(intl_min_percentile,2)"
      ]
    },
    {
      "cell_type": "code",
      "execution_count": null,
      "metadata": {
        "id": "kE-ITFEKLhNo"
      },
      "outputs": [],
      "source": [
        "telecom_churn['Total intl minutes'].mean()"
      ]
    },
    {
      "cell_type": "code",
      "execution_count": null,
      "metadata": {
        "id": "n3kmomRKLhQd"
      },
      "outputs": [],
      "source": [
        "telecom_churn['Total intl minutes'].median()"
      ]
    },
    {
      "cell_type": "markdown",
      "metadata": {
        "id": "j9NrSBZ7Lr7u"
      },
      "source": [
        "## **EXPLORING VARIABLE - TOTAL INTL CALLS**"
      ]
    },
    {
      "cell_type": "code",
      "execution_count": null,
      "metadata": {
        "id": "gAygEWpGLs6P"
      },
      "outputs": [],
      "source": [
        "plt.boxplot(telecom_churn[\"Total intl calls\"])"
      ]
    },
    {
      "cell_type": "code",
      "execution_count": null,
      "metadata": {
        "id": "u43lGMbdLuWK"
      },
      "outputs": [],
      "source": [
        "intl_calls_percentile=telecom_churn['Total intl calls'].quantile([0,0.01,0.1,0.2,0.3,0.4,0.5,0.6,0.7,0.8,0.9,0.91,0.92,0.93,0.94,0.95,0.96,0.97,0.98,0.99,0.991,0.992,0.993,0.994,0.995,0.996,0.997,0.998,0.999,1])\n",
        "round(intl_calls_percentile,2)"
      ]
    },
    {
      "cell_type": "code",
      "execution_count": null,
      "metadata": {
        "id": "7ao2vjnDLuYp"
      },
      "outputs": [],
      "source": [
        "telecom_churn['Total intl calls'].mean()"
      ]
    },
    {
      "cell_type": "code",
      "execution_count": null,
      "metadata": {
        "id": "dPb_NZNbLubi"
      },
      "outputs": [],
      "source": [
        "telecom_churn['Total intl calls'].median()"
      ]
    },
    {
      "cell_type": "code",
      "execution_count": null,
      "metadata": {
        "id": "5cjwTjvrLuiO"
      },
      "outputs": [],
      "source": [
        "#median_intl_calls=telecom_churn['Total intl calls'].median()\n",
        "#telecom_churn['Total_intl_calls_new']=telecom_churn['Total intl calls']\n",
        "#telecom_churn['Total_intl_calls_new'][telecom_churn['Total_intl_calls_new']> 13] = median_intl_calls"
      ]
    },
    {
      "cell_type": "code",
      "source": [
        "telecom_churn.info()"
      ],
      "metadata": {
        "id": "61OiuNgl7BVh"
      },
      "execution_count": null,
      "outputs": []
    },
    {
      "cell_type": "markdown",
      "metadata": {
        "id": "n-q76ingL6zh"
      },
      "source": [
        "## **EXPLORING VARIBALES - CUSTOMER SERVICE CALLS**"
      ]
    },
    {
      "cell_type": "code",
      "execution_count": null,
      "metadata": {
        "id": "-mQ7GWe_L9GS"
      },
      "outputs": [],
      "source": [
        "plt.boxplot(telecom_churn[\"Customer service calls\"])"
      ]
    },
    {
      "cell_type": "code",
      "execution_count": null,
      "metadata": {
        "id": "B76JhOhGL_hD"
      },
      "outputs": [],
      "source": [
        "cust_calls_percentile=telecom_churn['Customer service calls'].quantile([0,0.01,0.1,0.2,0.3,0.4,0.5,0.6,0.7,0.8,0.9,0.91,0.92,0.93,0.94,0.95,0.96,0.97,0.98,0.99,0.991,0.992,0.993,0.994,0.995,0.996,0.997,0.998,0.999,1])\n",
        "round(cust_calls_percentile,2)"
      ]
    },
    {
      "cell_type": "code",
      "execution_count": null,
      "metadata": {
        "id": "AAF_mg3lL_lC"
      },
      "outputs": [],
      "source": [
        "telecom_churn['Customer service calls'].mean()"
      ]
    },
    {
      "cell_type": "code",
      "execution_count": null,
      "metadata": {
        "id": "BEypZTqIMCoc"
      },
      "outputs": [],
      "source": [
        "telecom_churn['Customer service calls'].median()"
      ]
    },
    {
      "cell_type": "code",
      "source": [
        "telecom_churn.info()"
      ],
      "metadata": {
        "id": "5cW-CZBQ7hgR"
      },
      "execution_count": null,
      "outputs": []
    },
    {
      "cell_type": "code",
      "source": [
        "telecom_churn_new = telecom_churn.drop(columns = ['Churn','number_vmail_new','Total eve calls','Account length','International plan','Voice mail plan'], axis = 1)"
      ],
      "metadata": {
        "id": "-QXVEfaD7kp8"
      },
      "execution_count": null,
      "outputs": []
    },
    {
      "cell_type": "markdown",
      "metadata": {
        "id": "rOEzFaZyMkwP"
      },
      "source": [
        "# **LOGISTIC REGRESSION**"
      ]
    },
    {
      "cell_type": "code",
      "execution_count": null,
      "metadata": {
        "id": "UcaKleD9Mz-x"
      },
      "outputs": [],
      "source": [
        "telecom_churn_new.info()"
      ]
    },
    {
      "cell_type": "markdown",
      "metadata": {
        "id": "4_za_q0gO5rS"
      },
      "source": [
        "**TARGET VARIBALE Y = Churn_num**\n"
      ]
    },
    {
      "cell_type": "code",
      "execution_count": null,
      "metadata": {
        "id": "N341T4UeO5J6"
      },
      "outputs": [],
      "source": [
        "from sklearn.linear_model import LogisticRegression\n",
        "logistic1 = LogisticRegression()\n",
        "logistic1.fit(telecom_churn_new[['Area code']+['Number vmail messages'] + ['Total day minutes'] + ['Total day calls'] + ['Total day charge']+['Total eve minutes'] + ['Total eve charge'] + ['Total night minutes'] + ['Total night calls'] + ['Total night charge']+['Total intl charge'] + ['Total intl calls'] + ['Total intl minutes'] + ['Customer service calls']+ ['Intl_plan_num'] + ['Vmail_plan_num'] +['Account_length_new'] + ['Total_eve_calls_new']],telecom_churn_new[['Churn_num']])\n",
        "#logistic1.fit(telecom_churn_new[['Intl_plan_num']+['Vmail_plan_num']+ ['Account_length_new'] +['Total_eve_calls_new'] + ['Customer service calls']+ ['Total intl charge'] + ['Total intl calls'] + ['Total intl minutes'] + ['Total night charge'] + ['Total night calls'] + ['Total eve minutes'] +['Total day charge'] + ['Total day calls'] +['Total day minutes']],telecom_churn_new[['Churn_num']])"
      ]
    },
    {
      "cell_type": "code",
      "execution_count": null,
      "metadata": {
        "id": "PM3HrR8qUEdo"
      },
      "outputs": [],
      "source": [
        "print(\"Intercept\", logistic1.intercept_)\n",
        "print(\"Coefficient\", logistic1.coef_)"
      ]
    },
    {
      "cell_type": "markdown",
      "metadata": {
        "id": "y6v9BN5qUcQz"
      },
      "source": [
        "## **CONFUSION MATRIX & ACCURACY**"
      ]
    },
    {
      "cell_type": "code",
      "execution_count": null,
      "metadata": {
        "id": "CW-4LoeMUhIh"
      },
      "outputs": [],
      "source": [
        "import numpy as np\n",
        "import matplotlib.pyplot as plt\n",
        "from sklearn.metrics import confusion_matrix"
      ]
    },
    {
      "cell_type": "code",
      "execution_count": null,
      "metadata": {
        "id": "NjwxLrmyU1g2"
      },
      "outputs": [],
      "source": [
        "predict1 = logistic1.predict(telecom_churn_new[['Area code']+['Number vmail messages'] + ['Total day minutes'] + ['Total day calls'] + ['Total day charge']+['Total eve minutes'] + ['Total eve charge'] + ['Total night minutes'] + ['Total night calls'] + ['Total night charge']+['Total intl charge'] + ['Total intl calls'] + ['Total intl minutes'] + ['Customer service calls']+ ['Intl_plan_num'] + ['Vmail_plan_num'] +['Account_length_new'] + ['Total_eve_calls_new']])\n",
        "predict1\n",
        "cm1 = confusion_matrix(telecom_churn_new[['Churn_num']],predict1)\n",
        "print(cm1)"
      ]
    },
    {
      "cell_type": "code",
      "execution_count": null,
      "metadata": {
        "id": "xyt4WD0pVpRY"
      },
      "outputs": [],
      "source": [
        "print(\"col sums\", sum(cm1))\n",
        "total1 = sum(sum(cm1))\n",
        "print(\"Total\", total1)"
      ]
    },
    {
      "cell_type": "code",
      "execution_count": null,
      "metadata": {
        "id": "GYSbmMQ1V18Q"
      },
      "outputs": [],
      "source": [
        "accuracy1 = (cm1[0,0]+cm1[1,1])/total1\n",
        "accuracy1"
      ]
    },
    {
      "cell_type": "markdown",
      "metadata": {
        "id": "KVxdNwZYWA1G"
      },
      "source": [
        "## **MULTICOLLINEARITY**"
      ]
    },
    {
      "cell_type": "code",
      "execution_count": null,
      "metadata": {
        "id": "3_2B5xBpWFOP"
      },
      "outputs": [],
      "source": [
        "#import statsmodels.formula.api as sm\n",
        "\n",
        "#def vif_cal(input_data, dependent_col):\n",
        " #   x_vars=input_data.drop([dependent_col], axis=1)\n",
        "  #  xvar_names=x_vars.columns\n",
        "   # for i in range(0,xvar_names.shape[0]):\n",
        "    #    y=x_vars[xvar_names[i]] \n",
        "     #   x=x_vars[xvar_names.drop(xvar_names[i])]\n",
        "      #  rsq=sm.ols(formula=\"y~x\", data=x_vars).fit().rsquared  \n",
        "       # vif=round(1/(1-rsq),2)\n",
        "        #print (xvar_names[i], \" VIF = \" , vif)"
      ]
    },
    {
      "cell_type": "code",
      "execution_count": null,
      "metadata": {
        "id": "oBcaFWwej_Zf"
      },
      "outputs": [],
      "source": [
        "import statsmodels.formula.api as sm1\n",
        "def vif_cals(x_vars):\n",
        "    xvar_names=x_vars.columns\n",
        "    for i in range(0,xvar_names.shape[0]):\n",
        "        y=x_vars[xvar_names[i]] \n",
        "        x=x_vars[xvar_names.drop(xvar_names[i])]\n",
        "        rsq=sm1.ols(formula=\"y~x\", data=x_vars).fit().rsquared  \n",
        "        vif=round(1/(1-rsq),2)\n",
        "        print (xvar_names[i], \" VIF = \" , vif)"
      ]
    },
    {
      "cell_type": "code",
      "execution_count": null,
      "metadata": {
        "id": "e5N9NuWrZl1Q"
      },
      "outputs": [],
      "source": [
        "vif_cals(x_vars=telecom_churn_new.drop([\"State\", \"Churn_num\"], axis=1))"
      ]
    },
    {
      "cell_type": "markdown",
      "metadata": {
        "id": "9HvAGm868J6P"
      },
      "source": [
        "**Dropping variable one at a time that have the highest VIF or VIF > 5. An important point here is to have Industy knowledge on variables and which ones may be highly correlated, i.e., do not drop variables radomly**"
      ]
    },
    {
      "cell_type": "code",
      "execution_count": null,
      "metadata": {
        "id": "jMj9HbagoPaV"
      },
      "outputs": [],
      "source": [
        "vif_cals(x_vars=telecom_churn_new.drop([\"State\", \"Churn_num\", \"Total day minutes\"], axis=1))"
      ]
    },
    {
      "cell_type": "code",
      "execution_count": null,
      "metadata": {
        "id": "bxukjVjjoyRe"
      },
      "outputs": [],
      "source": [
        "vif_cals(x_vars=telecom_churn_new.drop([\"State\", \"Churn_num\", \"Total day minutes\",\"Total eve minutes\"], axis=1))"
      ]
    },
    {
      "cell_type": "code",
      "execution_count": null,
      "metadata": {
        "id": "vo_p88B1qpbx"
      },
      "outputs": [],
      "source": [
        "vif_cals(x_vars=telecom_churn_new.drop([\"State\", \"Churn_num\", \"Total day minutes\",\"Total eve minutes\",\"Total night minutes\"], axis=1))"
      ]
    },
    {
      "cell_type": "code",
      "execution_count": null,
      "metadata": {
        "id": "jvXQo06QqxxY"
      },
      "outputs": [],
      "source": [
        "vif_cals(x_vars=telecom_churn_new.drop([\"State\", \"Churn_num\", \"Total day minutes\",\"Total eve minutes\",\"Total night minutes\",\"Total intl minutes\"], axis=1))"
      ]
    },
    {
      "cell_type": "code",
      "execution_count": null,
      "metadata": {
        "id": "ls8zBn1Fq434"
      },
      "outputs": [],
      "source": [
        "vif_cals(x_vars=telecom_churn_new.drop([\"State\", \"Churn_num\", \"Total day minutes\",\"Total eve minutes\",\"Total night minutes\",\"Total intl minutes\",\"Number vmail messages\"], axis=1))"
      ]
    },
    {
      "cell_type": "markdown",
      "metadata": {
        "id": "36QtSlzb5BXP"
      },
      "source": [
        "## **INDIVIDUAL IMPACT OF VARIABLES**"
      ]
    },
    {
      "cell_type": "code",
      "execution_count": null,
      "metadata": {
        "id": "HfIrJ421t17C"
      },
      "outputs": [],
      "source": [
        "import statsmodels.api as sm1\n",
        "m1=sm1.Logit(telecom_churn_new['Churn_num'],telecom_churn_new[['Area code'] + ['Total day calls'] + ['Total day charge'] + ['Total eve charge'] + ['Total night calls']+['Total night charge'] + ['Total intl calls'] +['Total intl charge'] + ['Customer service calls']+['Intl_plan_num'] + ['Vmail_plan_num'] + ['Account_length_new'] + ['Total_eve_calls_new']])\n",
        "m1.fit()\n",
        "print(m1.fit().summary())"
      ]
    },
    {
      "cell_type": "markdown",
      "metadata": {
        "id": "M_N0rmz29Tvy"
      },
      "source": [
        "**Output above:** \n",
        "1. Look at the Z-value: Thihs examples the null hypothesis - not impactful versus the alternative hypothesis, which is impactful.\n",
        "2. Looking at the output, if the P>|Z| is  < 0.05, the variable is considered impactful. If the P>|Z| >= 0.05 it is not impactful\n",
        "3. Looking at the summary output above, we can see Total day calls, total night charge, Account length new, and total night calls have P-value >0.05. We can safely drop these variables. "
      ]
    },
    {
      "cell_type": "code",
      "execution_count": null,
      "metadata": {
        "id": "4HVjRCpm1fcf"
      },
      "outputs": [],
      "source": [
        "import statsmodels.api as sm1\n",
        "m2=sm1.Logit(telecom_churn_new['Churn_num'],telecom_churn_new[['Area code'] + ['Total day charge'] + ['Total eve charge'] + ['Total intl calls'] +['Total intl charge'] + ['Customer service calls']+['Intl_plan_num'] + ['Vmail_plan_num'] + ['Total_eve_calls_new']])\n",
        "m2.fit()\n",
        "print(m2.fit().summary())"
      ]
    },
    {
      "cell_type": "markdown",
      "metadata": {
        "id": "SYQdqsyA_NLr"
      },
      "source": [
        "## **CONFUSION MATRIX & ACCURACY**"
      ]
    },
    {
      "cell_type": "markdown",
      "metadata": {
        "id": "xNW5JLLqfMNN"
      },
      "source": [
        "# **MODEL VALIDATION**"
      ]
    },
    {
      "cell_type": "markdown",
      "metadata": {
        "id": "6s66Xmi8yRBz"
      },
      "source": [
        "## **SENSITIVITY AND SPECIFICITY**"
      ]
    },
    {
      "cell_type": "code",
      "execution_count": null,
      "metadata": {
        "id": "o0T3yGC_fcsG"
      },
      "outputs": [],
      "source": [
        "import statsmodels.api as sm1\n",
        "m2=sm1.Logit(telecom_churn_new['Churn_num'],telecom_churn_new[['Area code'] + ['Total day charge'] + ['Total eve charge'] + ['Total intl calls'] +['Total intl charge'] + ['Customer service calls']+['Intl_plan_num'] + ['Vmail_plan_num'] + ['Total_eve_calls_new']])\n",
        "results = m2.fit()\n",
        "print(results.summary())\n",
        "\n",
        "\n",
        "#m2=sm1.Logit(telecom_churn['Churn_num'],telecom_churn[['Area code']+['Total day minutes']+['Total eve minutes'] + ['Total eve calls']+['Total intl charge']+['Customer service calls']+['Intl_plan_num']+['Vmail_plan_num']+['Total_intl_calls_new']])\n",
        "#results = m2.fit()\n",
        "#print(results.summary())"
      ]
    },
    {
      "cell_type": "code",
      "execution_count": null,
      "metadata": {
        "id": "_cfvcj4qzI-N"
      },
      "outputs": [],
      "source": [
        "#CREATE THE CONFUSION MATRIX\n",
        "#PREDICT THE VARIABLE\n",
        "predictions = results.predict()\n",
        "print(predictions[0:10])\n",
        "len(predictions)"
      ]
    },
    {
      "cell_type": "code",
      "execution_count": null,
      "metadata": {
        "id": "U-Ua8ZNV0MkF"
      },
      "outputs": [],
      "source": [
        "#converting predicted values into classes using threshold\n",
        "threshold = 0.7\n",
        "predicted_class1=[0 if x < threshold else 1 for x in predictions]\n",
        "print(predicted_class1[0:10])"
      ]
    },
    {
      "cell_type": "code",
      "execution_count": null,
      "metadata": {
        "id": "f1AK5VtJ0iZn"
      },
      "outputs": [],
      "source": [
        "from sklearn.metrics import confusion_matrix\n",
        "\n",
        "cm3 = confusion_matrix(telecom_churn_new[\"Churn_num\"], predicted_class1)\n",
        "print('Confusion Matrix : \\n', cm3)\n",
        "total3 = sum(sum(cm3))\n",
        "#From confusion matrix calcuate accuracy\n",
        "accuracy1 = (cm3[0,0]+cm3[1,1])/total3\n",
        "print('Accuracy', accuracy1)\n",
        "\n",
        "sensitivity1 = cm3[0,0]/(cm3[0,0]+cm3[0,1])\n",
        "print('Sensitivity : ', sensitivity1 )\n",
        "\n",
        "specificity1 = cm3[1,1]/(cm3[1,0]+cm3[1,1])\n",
        "print('Specificity : ', specificity1)"
      ]
    },
    {
      "cell_type": "markdown",
      "metadata": {
        "id": "P8tpgN921Wol"
      },
      "source": [
        "## **THRESHOLD**"
      ]
    },
    {
      "cell_type": "code",
      "execution_count": null,
      "metadata": {
        "id": "6Ek0p19O3C9m"
      },
      "outputs": [],
      "source": [
        "#Threshold = 0.8\n",
        "threshold = 0.8\n",
        "predicted_class1=[0 if x < threshold else 1 for x in predictions]\n",
        "#print(predicted_class1[0:10])\n",
        "cm3 = confusion_matrix(telecom_churn_new[\"Churn_num\"], predicted_class1)\n",
        "print('Confusion Matrix : \\n', cm3)\n",
        "total3 = sum(sum(cm3))\n",
        "#From confusion matrix calcuate accuracy\n",
        "accuracy1 = (cm3[0,0]+cm3[1,1])/total3\n",
        "print('Accuracy', accuracy1)\n",
        "\n",
        "sensitivity1 = cm3[0,0]/(cm3[0,0]+cm3[0,1])\n",
        "print('Sensitivity : ', sensitivity1 )\n",
        "\n",
        "specificity1 = cm3[1,1]/(cm3[1,0]+cm3[1,1])\n",
        "print('Specificity : ', specificity1)"
      ]
    },
    {
      "cell_type": "code",
      "execution_count": null,
      "metadata": {
        "id": "l3RuR9IH1Yvn"
      },
      "outputs": [],
      "source": [
        "#Threshold = 0.2\n",
        "threshold = 0.2\n",
        "predicted_class1=[0 if x < threshold else 1 for x in predictions]\n",
        "#print(predicted_class1[0:10])\n",
        "cm3 = confusion_matrix(telecom_churn_new[\"Churn_num\"], predicted_class1)\n",
        "print('Confusion Matrix : \\n', cm3)\n",
        "total3 = sum(sum(cm3))\n",
        "#From confusion matrix calcuate accuracy\n",
        "accuracy1 = (cm3[0,0]+cm3[1,1])/total3\n",
        "print('Accuracy', accuracy1)\n",
        "\n",
        "sensitivity1 = cm3[0,0]/(cm3[0,0]+cm3[0,1])\n",
        "print('Sensitivity : ', sensitivity1 )\n",
        "\n",
        "specificity1 = cm3[1,1]/(cm3[1,0]+cm3[1,1])\n",
        "print('Specificity : ', specificity1)"
      ]
    },
    {
      "cell_type": "code",
      "execution_count": null,
      "metadata": {
        "id": "KEj1yIpF3L3s"
      },
      "outputs": [],
      "source": [
        "#Threshold = 0.3\n",
        "threshold = 0.3\n",
        "predicted_class1=[0 if x < threshold else 1 for x in predictions]\n",
        "#print(predicted_class1[0:10])\n",
        "cm3 = confusion_matrix(telecom_churn_new[\"Churn_num\"], predicted_class1)\n",
        "print('Confusion Matrix : \\n', cm3)\n",
        "total3 = sum(sum(cm3))\n",
        "#From confusion matrix calcuate accuracy\n",
        "accuracy1 = (cm3[0,0]+cm3[1,1])/total3\n",
        "print('Accuracy', accuracy1)\n",
        "\n",
        "sensitivity1 = cm3[0,0]/(cm3[0,0]+cm3[0,1])\n",
        "print('Sensitivity : ', sensitivity1 )\n",
        "\n",
        "specificity1 = cm3[1,1]/(cm3[1,0]+cm3[1,1])\n",
        "print('Specificity : ', specificity1)"
      ]
    },
    {
      "cell_type": "markdown",
      "metadata": {
        "id": "Sf4FRL2F-0Te"
      },
      "source": [
        "**By changing the threshold from to 0.2, we have further improved the specificty from 2.06% to 61.59%. However, the sensitivity has reduced from 99.8%  to 83.18%. if we further reduce the threshold, specificty will increase at the cost of sensitivity. we will be wrongly classifying customer who will churn vs. not churn.**"
      ]
    },
    {
      "cell_type": "markdown",
      "metadata": {
        "id": "6u7TDSUrBUqI"
      },
      "source": [
        "## **ROC**"
      ]
    },
    {
      "cell_type": "code",
      "execution_count": null,
      "metadata": {
        "id": "u6j57vOGBXTx"
      },
      "outputs": [],
      "source": [
        "from sklearn.metrics import roc_curve, auc\n",
        "import matplotlib.pyplot as plt\n",
        "\n",
        "actual = telecom_churn_new[\"Churn_num\"]\n",
        "False_positive_rate, True_positive_rate, thresholds = roc_curve(actual, predictions)\n",
        "plt.figure(figsize=(10,10))\n",
        "plt.title('ROC Curve', fontsize = 15)\n",
        "plt.plot(False_positive_rate, True_positive_rate)\n",
        "plt.plot([0,1],[0,1], 'r--')\n",
        "plt.ylabel('True Positive Rate(Sensitivity)', fontsize = 15)\n",
        "plt.xlabel('False Positive Rate(1-Sensitivity)', fontsize = 15)\n",
        "plt.show()"
      ]
    },
    {
      "cell_type": "markdown",
      "metadata": {
        "id": "P6UOJQeIFMHZ"
      },
      "source": [
        "## **AREA UNDER CURVE (AUC)**"
      ]
    },
    {
      "cell_type": "code",
      "execution_count": null,
      "metadata": {
        "id": "fLZScLXFFOAG"
      },
      "outputs": [],
      "source": [
        "roc_auc = auc(False_positive_rate, True_positive_rate)\n",
        "roc_auc"
      ]
    },
    {
      "cell_type": "markdown",
      "metadata": {
        "id": "RfZChC3j-OFh"
      },
      "source": [
        "\n",
        "\n",
        "```\n",
        "# This is formatted as code\n",
        "```\n",
        "\n",
        "**The AUC is close to 1, i.e., 0.8, the model is considered to be good.**"
      ]
    },
    {
      "cell_type": "markdown",
      "metadata": {
        "id": "Zn9CXGW2Anax"
      },
      "source": [
        "## **PRECISION, RECALL, and F1 SCORE**"
      ]
    },
    {
      "cell_type": "code",
      "execution_count": null,
      "metadata": {
        "id": "nTgNBJgjJCa2"
      },
      "outputs": [],
      "source": [
        "#F1 Score\n",
        "threshold = 0.5\n",
        "predicted_class1=[0 if x < threshold else 1 for x in predictions]\n",
        "#print(predicted_class1[0:10])\n",
        "cm3 = confusion_matrix(telecom_churn_new[\"Churn_num\"], predicted_class1)\n",
        "print('Confusion Matrix : \\n', cm3)\n",
        "total3 = sum(sum(cm3))\n",
        "#From confusion matrix calcuate accuracy\n",
        "accuracy1 = (cm3[0,0]+cm3[1,1])/total3\n",
        "print('Accuracy', accuracy1)\n",
        "\n",
        "Precision_Class0 = cm3[0,0]/(cm3[0,0]+cm3[1,0])\n",
        "print('Precision_Class0 : ', Precision_Class0 )\n",
        "\n",
        "Recall_Class0 = cm3[0,0]/(cm3[0,0]+cm3[0,1])\n",
        "print('Recall_Class0 : ', Recall_Class0 )\n",
        "\n",
        "F1_Class0 = 2/((1/Precision_Class0)+(1/Recall_Class0))\n",
        "print('F1_Class0 : ', F1_Class0 )\n",
        "\n",
        "Precision_Class1 = cm3[1,1]/(cm3[0,1]+cm3[1,1])\n",
        "print('Precision_Class1 : ', Precision_Class1 )\n",
        "\n",
        "Recall_Class1 = cm3[1,1]/(cm3[1,0]+cm3[1,1])\n",
        "print('Recall_Class1 : ', Recall_Class1 )\n",
        "\n",
        "F1_Class1 = 2/((1/Precision_Class1)+(1/Recall_Class1))\n",
        "print('F1_Class1 : ', F1_Class1 )"
      ]
    },
    {
      "cell_type": "code",
      "execution_count": null,
      "metadata": {
        "id": "8-mKecPPAnLS"
      },
      "outputs": [],
      "source": [
        "#F1 Score\n",
        "threshold = 0.2\n",
        "predicted_class1=[0 if x < threshold else 1 for x in predictions]\n",
        "#print(predicted_class1[0:10])\n",
        "cm3 = confusion_matrix(telecom_churn_new[\"Churn_num\"], predicted_class1)\n",
        "print('Confusion Matrix : \\n', cm3)\n",
        "total3 = sum(sum(cm3))\n",
        "#From confusion matrix calcuate accuracy\n",
        "accuracy1 = (cm3[0,0]+cm3[1,1])/total3\n",
        "print('Accuracy', accuracy1)\n",
        "\n",
        "Precision_Class0 = cm3[0,0]/(cm3[0,0]+cm3[1,0])\n",
        "print('Precision_Class0 : ', Precision_Class0 )\n",
        "\n",
        "Recall_Class0 = cm3[0,0]/(cm3[0,0]+cm3[0,1])\n",
        "print('Recall_Class0 : ', Recall_Class0 )\n",
        "\n",
        "F1_Class0 = 2/((1/Precision_Class0)+(1/Recall_Class0))\n",
        "print('F1_Class0 : ', F1_Class0 )\n",
        "\n",
        "Precision_Class1 = cm3[1,1]/(cm3[0,1]+cm3[1,1])\n",
        "print('Precision_Class1 : ', Precision_Class1 )\n",
        "\n",
        "Recall_Class1 = cm3[1,1]/(cm3[1,0]+cm3[1,1])\n",
        "print('Recall_Class1 : ', Recall_Class1 )\n",
        "\n",
        "F1_Class1 = 2/((1/Precision_Class1)+(1/Recall_Class1))\n",
        "print('F1_Class1 : ', F1_Class1 )"
      ]
    },
    {
      "cell_type": "markdown",
      "metadata": {
        "id": "QzfnY29H4s3U"
      },
      "source": [
        "**Alternatively, we can use classification report to generate precision, Recall, F1-Score, and data (support)**"
      ]
    },
    {
      "cell_type": "code",
      "execution_count": null,
      "metadata": {
        "id": "92SMdywGJs6p"
      },
      "outputs": [],
      "source": [
        "from sklearn.metrics import classification_report\n",
        "print(classification_report(telecom_churn_new[\"Churn_num\"],predicted_class1))"
      ]
    },
    {
      "cell_type": "markdown",
      "metadata": {
        "id": "jTyQgEZpMeK1"
      },
      "source": [
        "**Precision** = Out of all the Customers that the model predicted would Churn, 38% actually did.\n",
        "\n",
        "**Recall** = Out of all the Customers that actually Churned, the model only predicted this outcome correctly for 62% of those Customers.\n",
        "\n",
        "**F1 Score** = Since this value isn’t very close to 1, it tells us that the model does a poor job of predicting whether or not Customers will Churn."
      ]
    },
    {
      "cell_type": "markdown",
      "metadata": {
        "id": "4N_9tUpbOLZp"
      },
      "source": [
        "# **HANDLING UNBALANCED DATA**"
      ]
    },
    {
      "cell_type": "code",
      "source": [
        "telecom_churn_new.info()"
      ],
      "metadata": {
        "id": "lzLYvJlkMOAe"
      },
      "execution_count": null,
      "outputs": []
    },
    {
      "cell_type": "code",
      "execution_count": null,
      "metadata": {
        "id": "k1xcywK1QQ4m"
      },
      "outputs": [],
      "source": [
        "print(\"Actual Data :\", telecom_churn_new.shape)\n",
        "\n",
        "#Frequency count on target column\n",
        "freq=telecom_churn_new['Churn_num'].value_counts()\n",
        "print(freq)\n",
        "print((freq/freq.sum())*100)\n",
        "\n",
        "#Classwise data\n",
        "telecom_churn_new_class0 = telecom_churn_new[telecom_churn['Churn_num'] == 0]\n",
        "telecom_churn_new_class1 = telecom_churn_new[telecom_churn['Churn_num'] == 1]\n",
        "\n",
        "print(\"Class0 Actual :\", telecom_churn_new_class0.shape)\n",
        "print(\"Class1 Actual  :\", telecom_churn_new_class1.shape)\n"
      ]
    },
    {
      "cell_type": "markdown",
      "metadata": {
        "id": "H_saJR8MV8o1"
      },
      "source": [
        "**In the US market customer Churn rate in the telecom/wireless market is in the rage of 21% to 25%. Considering this we will boost the sample size of Class 1**"
      ]
    },
    {
      "cell_type": "code",
      "execution_count": null,
      "metadata": {
        "id": "8aWG8vBXT57K"
      },
      "outputs": [],
      "source": [
        "##Undersampling of class-0\n",
        "## Consider half of class-0\n",
        "telecom_churn_new_class0_under = telecom_churn_new_class0.sample(int(0.4*len(telecom_churn_new_class0)))\n",
        "print(\"Class0 Undersample :\", telecom_churn_new_class0_under.shape)\n",
        "\n",
        "##Oversampling of Class-1 \n",
        "# Lets increase the size by two times\n",
        "telecom_churn_new_class1_over = telecom_churn_new_class1.sample(2*len(telecom_churn_new_class1),replace=True)\n",
        "print(\"Class1 Oversample :\", telecom_churn_new_class1_over.shape)\n",
        "\n",
        "#Concatenate to create the final balanced data\n",
        "telecom_churn_new_balanced=pd.concat([telecom_churn_new_class0_under,telecom_churn_new_class1_over])\n",
        "print(\"Final Balannced Data :\", telecom_churn_new_balanced.shape)\n",
        "\n",
        "#Frequency count on target column in the balanced data\n",
        "freq=telecom_churn_new_balanced['Churn_num'].value_counts()\n",
        "print(freq)\n",
        "print((freq/freq.sum())*100)"
      ]
    },
    {
      "cell_type": "markdown",
      "metadata": {
        "id": "UKd9C60JqxlV"
      },
      "source": [
        "# **MODEL WITH BALANCED DATA**"
      ]
    },
    {
      "cell_type": "code",
      "execution_count": null,
      "metadata": {
        "id": "YA93CxYlqxGN"
      },
      "outputs": [],
      "source": [
        "import statsmodels.api as sm1\n",
        "m3=sm1.Logit(telecom_churn_new_balanced['Churn_num'],telecom_churn_new_balanced[['Area code'] + ['Total day charge'] + ['Total eve charge'] + ['Total intl calls'] +['Total intl charge'] + ['Customer service calls']+['Intl_plan_num'] + ['Vmail_plan_num'] + ['Total_eve_calls_new']])\n",
        "results = m3.fit()\n",
        "print(results.summary())"
      ]
    },
    {
      "cell_type": "markdown",
      "source": [
        "**Droping variable total eve charge and Total Intl charge since its P>|Z| is greater than 0.05**"
      ],
      "metadata": {
        "id": "oLTU0k-iUvzF"
      }
    },
    {
      "cell_type": "code",
      "source": [
        "import statsmodels.api as sm1\n",
        "m3=sm1.Logit(telecom_churn_new_balanced['Churn_num'],telecom_churn_new_balanced[['Area code'] + ['Total day charge'] + ['Total intl calls'] + ['Customer service calls']+['Intl_plan_num'] + ['Vmail_plan_num'] + ['Total_eve_calls_new']])\n",
        "results = m3.fit()\n",
        "print(results.summary())"
      ],
      "metadata": {
        "id": "8ug6EjfcUCl7"
      },
      "execution_count": null,
      "outputs": []
    },
    {
      "cell_type": "markdown",
      "metadata": {
        "id": "EfvJYafOu6Jx"
      },
      "source": [
        "## **UPDATED SENSITIVITY AND SPECIFICITY**"
      ]
    },
    {
      "cell_type": "code",
      "execution_count": null,
      "metadata": {
        "id": "mzhEmUgzsf7b"
      },
      "outputs": [],
      "source": [
        "#CREATE THE CONFUSION MATRIX\n",
        "#PREDICT THE VARIABLE\n",
        "predictions = results.predict()\n",
        "print(predictions[0:10])\n",
        "len(predictions)"
      ]
    },
    {
      "cell_type": "code",
      "execution_count": null,
      "metadata": {
        "id": "gAR-xhn9vLnY"
      },
      "outputs": [],
      "source": [
        "#converting predicted values into classes using threshold\n",
        "threshold = 0.6\n",
        "predicted_class1=[0 if x < threshold else 1 for x in predictions]\n",
        "print(predicted_class1[0:10])\n"
      ]
    },
    {
      "cell_type": "code",
      "execution_count": null,
      "metadata": {
        "id": "-QF7Qk9VvO4l"
      },
      "outputs": [],
      "source": [
        "from sklearn.metrics import confusion_matrix\n",
        "\n",
        "cm3 = confusion_matrix(telecom_churn_new_balanced[\"Churn_num\"], predicted_class1)\n",
        "print('Confusion Matrix : \\n', cm3)\n",
        "total3 = sum(sum(cm3))\n",
        "#From confusion matrix calcuate accuracy\n",
        "accuracy1 = (cm3[0,0]+cm3[1,1])/total3\n",
        "print('Accuracy', accuracy1)\n",
        "\n",
        "sensitivity1 = cm3[0,0]/(cm3[0,0]+cm3[0,1])\n",
        "print('Sensitivity : ', sensitivity1 )\n",
        "\n",
        "specificity1 = cm3[1,1]/(cm3[1,0]+cm3[1,1])\n",
        "print('Specificity : ', specificity1)"
      ]
    },
    {
      "cell_type": "markdown",
      "metadata": {
        "id": "aaCKqxqM5DBm"
      },
      "source": [
        "By changing the threshold to 0.6, we have further improved the specificty to 54.3percent. However, the sensitivity to 86.05percent. if we further reduce the threshold, specificty will increase at the cost of sensitivity. we will be wrongly classifying customer who will churn vs. not churn."
      ]
    },
    {
      "cell_type": "markdown",
      "metadata": {
        "id": "xTCTo7XowLbB"
      },
      "source": [
        "## **UPDATED PRECISION, RECALL AND F1SCORE**"
      ]
    },
    {
      "cell_type": "markdown",
      "metadata": {
        "id": "qMxAiBT84f9Y"
      },
      "source": [
        "**We can use classification report to generate precision, Recall, F1-Score, and data (support)**"
      ]
    },
    {
      "cell_type": "code",
      "execution_count": null,
      "metadata": {
        "id": "bMOUIesRwvQg"
      },
      "outputs": [],
      "source": [
        "from sklearn.metrics import classification_report\n",
        "print(classification_report(telecom_churn_new_balanced[\"Churn_num\"],predicted_class1))"
      ]
    },
    {
      "cell_type": "markdown",
      "metadata": {
        "id": "ZMZwSv3ozQ0S"
      },
      "source": [
        "**Precision** = Out of all the Customers that the model predicted would Churn, 77% actually did.\n",
        "\n",
        "**Recall** = Out of all the Customers that actually Churned, the model only predicted this outcome correctly for 54% of those Customers.\n",
        "\n",
        "**F1 Score** = The value is close to 1, it tells us that the model does a good job of predicting whether or not Customers will Churn."
      ]
    },
    {
      "cell_type": "code",
      "source": [
        "telecom_churn_new.info()"
      ],
      "metadata": {
        "id": "KP-qo28PVJTD"
      },
      "execution_count": null,
      "outputs": []
    },
    {
      "cell_type": "markdown",
      "source": [
        "# **FEATURE ENGINEERING**"
      ],
      "metadata": {
        "id": "1AmnWTXLcFqW"
      }
    },
    {
      "cell_type": "markdown",
      "source": [
        "**Working with orginial data set**"
      ],
      "metadata": {
        "id": "dM_Rf8tUcVvF"
      }
    },
    {
      "cell_type": "code",
      "source": [
        "telecom_churn.info() #to identify data types"
      ],
      "metadata": {
        "id": "E_wi6QpYcV27"
      },
      "execution_count": null,
      "outputs": []
    },
    {
      "cell_type": "code",
      "source": [
        "#PRINT COLUMN NAMES\n",
        "telecom_churn.columns.values"
      ],
      "metadata": {
        "id": "daQ5RgkaprLt"
      },
      "execution_count": null,
      "outputs": []
    },
    {
      "cell_type": "code",
      "source": [
        "telecom_churn_fe=telecom_churn.drop(columns = ['Churn','State','International plan', 'Voice mail plan'], axis = 1)"
      ],
      "metadata": {
        "id": "-iyZou2wpyjk"
      },
      "execution_count": null,
      "outputs": []
    },
    {
      "cell_type": "code",
      "source": [
        "telecom_churn_fe.info()"
      ],
      "metadata": {
        "id": "0tlTFBqlrMKX"
      },
      "execution_count": null,
      "outputs": []
    },
    {
      "cell_type": "code",
      "source": [
        "telecom_churn_fe.columns.values"
      ],
      "metadata": {
        "id": "euTSHqyKrgNK"
      },
      "execution_count": null,
      "outputs": []
    },
    {
      "cell_type": "code",
      "source": [
        "telecom_churn_fe=telecom_churn_fe[['Churn_num','Account length', 'Area code','Number vmail messages', 'Total day minutes','Total day calls', 'Total day charge', 'Total eve minutes','Total eve calls', 'Total eve charge', 'Total night minutes', 'Total night calls', 'Total night charge', 'Total intl minutes','Total intl calls', 'Total intl charge', 'Customer service calls','Intl_plan_num', 'Vmail_plan_num','Account_length_new', 'number_vmail_new', 'Total_eve_calls_new']]"
      ],
      "metadata": {
        "id": "iLfL1XpXrPY6"
      },
      "execution_count": null,
      "outputs": []
    },
    {
      "cell_type": "code",
      "source": [
        "telecom_churn_fe.info()"
      ],
      "metadata": {
        "id": "0CzJAlMQsE5U"
      },
      "execution_count": null,
      "outputs": []
    },
    {
      "cell_type": "code",
      "source": [
        "#Numerical Columns\n",
        "num_vars = telecom_churn_fe.columns[telecom_churn_fe.dtypes != 'object']\n",
        "#Non Numerical Columns\n",
        "cat_vars = telecom_churn_fe.columns[telecom_churn_fe.dtypes == 'object']\n",
        "print(num_vars)\n",
        "print(cat_vars)"
      ],
      "metadata": {
        "id": "4jT7hydisH5-"
      },
      "execution_count": null,
      "outputs": []
    },
    {
      "cell_type": "code",
      "source": [
        "pred_cols = telecom_churn_fe.columns.values[1:]\n",
        "print(pred_cols)"
      ],
      "metadata": {
        "id": "DmF7s2THstw7"
      },
      "execution_count": null,
      "outputs": []
    },
    {
      "cell_type": "code",
      "source": [
        "x = telecom_churn_fe[pred_cols]\n",
        "y = telecom_churn_fe['Churn_num']"
      ],
      "metadata": {
        "id": "_Vf-V1uctAMG"
      },
      "execution_count": null,
      "outputs": []
    },
    {
      "cell_type": "markdown",
      "source": [
        "## **TRANSFORMATION**"
      ],
      "metadata": {
        "id": "m3RMDBJIwAZ_"
      }
    },
    {
      "cell_type": "markdown",
      "source": [
        "### **TOTAL MINUTES**"
      ],
      "metadata": {
        "id": "ja4ykdoewVVv"
      }
    },
    {
      "cell_type": "code",
      "source": [
        "telecom_churn_fe['Total_minutes']=telecom_churn_fe['Total day minutes']+telecom_churn_fe['Total day minutes']+telecom_churn_fe['Total night minutes']+telecom_churn_fe['Total intl minutes']"
      ],
      "metadata": {
        "id": "FCshptNCv_30"
      },
      "execution_count": null,
      "outputs": []
    },
    {
      "cell_type": "markdown",
      "source": [
        "### **TOTAL CALLS**"
      ],
      "metadata": {
        "id": "HTmAQQvDx1SK"
      }
    },
    {
      "cell_type": "code",
      "source": [
        "telecom_churn_fe['Total_calls']=telecom_churn_fe['Total day calls']+telecom_churn_fe['Total eve calls']+telecom_churn_fe['Total night calls']+telecom_churn_fe['Total intl calls']"
      ],
      "metadata": {
        "id": "aingwMZTxBuD"
      },
      "execution_count": null,
      "outputs": []
    },
    {
      "cell_type": "markdown",
      "source": [
        "### **TOTAL CHARGE**"
      ],
      "metadata": {
        "id": "nx3tybfUx6XT"
      }
    },
    {
      "cell_type": "code",
      "source": [
        "telecom_churn_fe['Total_charge']=telecom_churn_fe['Total day charge']+telecom_churn_fe['Total eve charge']+telecom_churn_fe['Total night charge']+telecom_churn_fe['Total intl charge']"
      ],
      "metadata": {
        "id": "v-Jch5mCxMPc"
      },
      "execution_count": null,
      "outputs": []
    },
    {
      "cell_type": "markdown",
      "source": [
        "## **MODEL-1 WITH TOTAL MINUTES, TOTAL CALLS, AND TOTAL CHARGE**"
      ],
      "metadata": {
        "id": "Wd60NY5UyNhh"
      }
    },
    {
      "cell_type": "code",
      "source": [
        "x = telecom_churn_fe[['Total_minutes','Total_calls','Total_charge','Account length', 'Area code','Number vmail messages','Customer service calls','Intl_plan_num', 'Vmail_plan_num','Account_length_new', 'number_vmail_new', 'Total_eve_calls_new']]\n",
        "y=telecom_churn_fe['Churn_num']\n"
      ],
      "metadata": {
        "id": "X2hLStdMyK4Q"
      },
      "execution_count": null,
      "outputs": []
    },
    {
      "cell_type": "code",
      "source": [
        "from sklearn.linear_model import LogisticRegression\n",
        "logistic5 = LogisticRegression()\n",
        "logistic5.fit(telecom_churn_fe[['Total_minutes','Total_calls','Total_charge','Area code','Number vmail messages','Customer service calls','Intl_plan_num', 'Vmail_plan_num','Account_length_new', 'number_vmail_new', 'Total_eve_calls_new']],telecom_churn_fe[['Churn_num']])"
      ],
      "metadata": {
        "id": "cnBhvggMz80A"
      },
      "execution_count": null,
      "outputs": []
    },
    {
      "cell_type": "code",
      "source": [
        "print(\"Intercept\", logistic5.intercept_)\n",
        "print(\"Coefficient\", logistic5.coef_)"
      ],
      "metadata": {
        "id": "vM0wVjB00yYK"
      },
      "execution_count": null,
      "outputs": []
    },
    {
      "cell_type": "markdown",
      "source": [
        "### **CONFUSION MATRIX**"
      ],
      "metadata": {
        "id": "hLxXXk7d1Xj9"
      }
    },
    {
      "cell_type": "code",
      "source": [
        "import numpy as np\n",
        "import matplotlib.pyplot as plt\n",
        "from sklearn.metrics import confusion_matrix\n",
        "\n",
        "predict5 = logistic5.predict(telecom_churn_fe[['Total_minutes','Total_calls','Total_charge','Area code','Number vmail messages','Customer service calls','Intl_plan_num', 'Vmail_plan_num','Account_length_new', 'number_vmail_new', 'Total_eve_calls_new']])\n",
        "predict5\n",
        "cm5 = confusion_matrix(telecom_churn_fe[['Churn_num']],predict5)\n",
        "print(cm5)"
      ],
      "metadata": {
        "id": "-pUcUzEE1Wns"
      },
      "execution_count": null,
      "outputs": []
    },
    {
      "cell_type": "code",
      "source": [
        "print(\"col sums\", sum(cm5))\n",
        "total5 = sum(sum(cm5))\n",
        "print(\"Total\", total5)"
      ],
      "metadata": {
        "id": "9pqdgYfi2ZZh"
      },
      "execution_count": null,
      "outputs": []
    },
    {
      "cell_type": "code",
      "source": [
        "accuracy5 = (cm5[0,0]+cm5[1,1])/total5\n",
        "accuracy5"
      ],
      "metadata": {
        "id": "9Tu50QWc2hzb"
      },
      "execution_count": null,
      "outputs": []
    },
    {
      "cell_type": "markdown",
      "source": [
        "### **MULTICOLLINEARITY**"
      ],
      "metadata": {
        "id": "0lLmamTT2y_z"
      }
    },
    {
      "cell_type": "code",
      "source": [
        "import statsmodels.formula.api as sm5\n",
        "def vif_cals(x_vars):\n",
        "    xvar_names=x_vars.columns\n",
        "    for i in range(0,xvar_names.shape[0]):\n",
        "        y=x_vars[xvar_names[i]] \n",
        "        x=x_vars[xvar_names.drop(xvar_names[i])]\n",
        "        rsq=sm5.ols(formula=\"y~x\", data=x_vars).fit().rsquared  \n",
        "        vif=round(1/(1-rsq),2)\n",
        "        print (xvar_names[i], \" VIF = \" , vif)"
      ],
      "metadata": {
        "id": "E03UtAAj23Rn"
      },
      "execution_count": null,
      "outputs": []
    },
    {
      "cell_type": "code",
      "source": [
        "telecom_churn_fe.info()"
      ],
      "metadata": {
        "id": "944OiB2e3TpT"
      },
      "execution_count": null,
      "outputs": []
    },
    {
      "cell_type": "code",
      "source": [
        "vif_cals(x_vars=telecom_churn_fe.drop([\"Churn_num\"], axis = 1))"
      ],
      "metadata": {
        "id": "PGIOhbn24WqT"
      },
      "execution_count": null,
      "outputs": []
    },
    {
      "cell_type": "code",
      "source": [
        "vif_cals(x_vars=telecom_churn_fe.drop([\"Total day minutes\",\"Total day minutes\",\"Total day charge\",\"Total eve minutes\",\"Total eve calls\",\"Total night minutes\",\"Total night calls\",\"Total intl minutes\",\"Total intl calls\",\"Total intl charge\", \"Churn_num\"], axis=1))"
      ],
      "metadata": {
        "id": "zXDx69NS3jhX"
      },
      "execution_count": null,
      "outputs": []
    },
    {
      "cell_type": "code",
      "source": [
        "vif_cals(x_vars=telecom_churn_fe.drop([\"Total_minutes\",\"Total day minutes\",\"Total day minutes\",\"Total day charge\",\"Total eve minutes\",\"Total eve calls\",\"Total night minutes\",\"Total night calls\",\"Total intl minutes\",\"Total intl calls\",\"Total intl charge\", \"Churn_num\"], axis=1))"
      ],
      "metadata": {
        "id": "IlJu9DAv4Flz"
      },
      "execution_count": null,
      "outputs": []
    },
    {
      "cell_type": "code",
      "source": [
        "vif_cals(x_vars=telecom_churn_fe.drop([\"Number vmail messages\",\"Total_minutes\",\"Total day minutes\",\"Total day minutes\",\"Total day charge\",\"Total eve minutes\",\"Total eve calls\",\"Total night minutes\",\"Total night calls\",\"Total intl minutes\",\"Total intl calls\",\"Total intl charge\", \"Churn_num\"], axis=1))"
      ],
      "metadata": {
        "id": "eieGpI5n4uog"
      },
      "execution_count": null,
      "outputs": []
    },
    {
      "cell_type": "code",
      "source": [
        "vif_cals(x_vars=telecom_churn_fe.drop([\"Account length\", \"Number vmail messages\",\"Total_minutes\",\"Total day minutes\",\"Total day minutes\",\"Total day charge\",\"Total eve minutes\",\"Total eve calls\",\"Total night minutes\",\"Total night calls\",\"Total intl minutes\",\"Total intl calls\",\"Total intl charge\", \"Churn_num\"], axis=1))"
      ],
      "metadata": {
        "id": "jca0HvVB42Rd"
      },
      "execution_count": null,
      "outputs": []
    },
    {
      "cell_type": "code",
      "source": [
        "vif_cals(x_vars=telecom_churn_fe.drop([\"Vmail_plan_num\",\"Account length\", \"Number vmail messages\",\"Total_minutes\",\"Total day minutes\",\"Total day minutes\",\"Total day charge\",\"Total eve minutes\",\"Total eve calls\",\"Total night minutes\",\"Total night calls\",\"Total intl minutes\",\"Total intl calls\",\"Total intl charge\", \"Churn_num\"], axis=1))"
      ],
      "metadata": {
        "id": "qA1DF_6S5X4I"
      },
      "execution_count": null,
      "outputs": []
    },
    {
      "cell_type": "markdown",
      "source": [
        "### **INDIVIDUAL IMPACT OF VARIABLES**"
      ],
      "metadata": {
        "id": "sTq1S4tL5uFP"
      }
    },
    {
      "cell_type": "code",
      "source": [
        "import statsmodels.api as sm5\n",
        "m5=sm5.Logit(telecom_churn_fe['Churn_num'],telecom_churn_fe[['Area code'] + ['Total day calls'] + ['Total eve charge'] + ['Total night charge'] + ['Customer service calls']+['Intl_plan_num'] + ['Account_length_new'] + ['number_vmail_new']+ ['Total_eve_calls_new']+['Total_calls']+['Total_charge']])\n",
        "m5.fit()\n",
        "print(m5.fit().summary())"
      ],
      "metadata": {
        "id": "QVG-G7v95zhR"
      },
      "execution_count": null,
      "outputs": []
    },
    {
      "cell_type": "markdown",
      "source": [
        "**Output above:** \n",
        "1. Look at the Z-value: Thihs examples the null hypothesis - not impactful versus the alternative hypothesis, which is impactful.\n",
        "2. Looking at the output, if the P>|Z| is  < 0.05, the variable is considered impactful. If the P>|Z| >= 0.05 it is not impactful\n",
        "3. Looking at the summary output above, we can see Total day calls, total eve charge, Account length new, Total_eve_calls_new have P-value >0.05. We can safely drop these variables."
      ],
      "metadata": {
        "id": "VmnVXMVL6h7-"
      }
    },
    {
      "cell_type": "code",
      "source": [
        "import statsmodels.api as sm5\n",
        "m5=sm5.Logit(telecom_churn_fe['Churn_num'],telecom_churn_fe[['Area code'] + ['Total night charge'] + ['Customer service calls']+['Intl_plan_num'] + ['number_vmail_new']+ ['Total_calls']+['Total_charge']])\n",
        "m5.fit()\n",
        "print(m5.fit().summary())"
      ],
      "metadata": {
        "id": "1q_OGiQV631s"
      },
      "execution_count": null,
      "outputs": []
    },
    {
      "cell_type": "code",
      "source": [
        "import statsmodels.api as sm5\n",
        "m5=sm5.Logit(telecom_churn_fe['Churn_num'],telecom_churn_fe[['Area code'] + ['Customer service calls']+['Intl_plan_num'] + ['number_vmail_new']+ ['Total_calls']+['Total_charge']])\n",
        "m5.fit()\n",
        "print(m5.fit().summary())"
      ],
      "metadata": {
        "id": "YSssiTaB7Kst"
      },
      "execution_count": null,
      "outputs": []
    },
    {
      "cell_type": "markdown",
      "source": [
        "### **CONFUSION MATRIX**"
      ],
      "metadata": {
        "id": "lVhIhrRK89lL"
      }
    },
    {
      "cell_type": "code",
      "source": [
        "from sklearn.linear_model import LogisticRegression\n",
        "logistic6 = LogisticRegression()\n",
        "logistic6.fit(telecom_churn_fe[['Area code']+['Customer service calls']+['Intl_plan_num']+['number_vmail_new']+['Total_calls']+['Total_charge']], telecom_churn_fe[['Churn_num']])"
      ],
      "metadata": {
        "id": "-nZPVDyV8F74"
      },
      "execution_count": null,
      "outputs": []
    },
    {
      "cell_type": "code",
      "source": [
        "import numpy as np\n",
        "import matplotlib.pyplot as plt\n",
        "from sklearn.metrics import confusion_matrix\n",
        "\n",
        "predict6 = logistic6.predict(telecom_churn_fe[['Area code']+['Customer service calls']+['Intl_plan_num']+['number_vmail_new']+['Total_calls']+['Total_charge']])\n",
        "predict6\n",
        "cm6 = confusion_matrix(telecom_churn_fe[['Churn_num']],predict6)\n",
        "print(cm6)"
      ],
      "metadata": {
        "id": "RimSij0Q7Rg0"
      },
      "execution_count": null,
      "outputs": []
    },
    {
      "cell_type": "code",
      "source": [
        "print(\"col sums\", sum(cm6))\n",
        "total6 = sum(sum(cm6))\n",
        "print(\"Total\", total6)\n"
      ],
      "metadata": {
        "id": "Gq7d_2218yMl"
      },
      "execution_count": null,
      "outputs": []
    },
    {
      "cell_type": "code",
      "source": [
        "\n",
        "accuracy6 = (cm6[0,0]+cm6[1,1])/total6\n",
        "accuracy6"
      ],
      "metadata": {
        "id": "-USWGLG6828d"
      },
      "execution_count": null,
      "outputs": []
    },
    {
      "cell_type": "markdown",
      "source": [
        "**The accuracy has improved from 85.8% to 86.2%**"
      ],
      "metadata": {
        "id": "Bfq9cjuN9W0a"
      }
    },
    {
      "cell_type": "markdown",
      "source": [
        "## **MODEL VALIDATION**"
      ],
      "metadata": {
        "id": "u_qfpwdy9Fk-"
      }
    },
    {
      "cell_type": "markdown",
      "source": [
        "### **SENSITIVITY AND SPECIFICVITY**"
      ],
      "metadata": {
        "id": "vFxoqYf89RxT"
      }
    },
    {
      "cell_type": "code",
      "source": [
        "import statsmodels.api as sm5\n",
        "m5=sm5.Logit(telecom_churn_fe['Churn_num'],telecom_churn_fe[['Area code'] + ['Customer service calls']+['Intl_plan_num'] + ['number_vmail_new']+ ['Total_calls']+['Total_charge']])\n",
        "results=m5.fit()\n",
        "print(results.summary())"
      ],
      "metadata": {
        "id": "9zfYC4049QL4"
      },
      "execution_count": null,
      "outputs": []
    },
    {
      "cell_type": "code",
      "source": [
        "#Predict the variable\n",
        "predictions=results.predict()\n",
        "print(predictions[0:10])\n",
        "len(predictions)"
      ],
      "metadata": {
        "id": "v1JMcBlY-5Rk"
      },
      "execution_count": null,
      "outputs": []
    },
    {
      "cell_type": "code",
      "source": [
        "#converting predicted values into classes using threshold\n",
        "threshold=0.8\n",
        "predicted_class1=[ 0 if x < threshold else 1 for x in predictions]\n",
        "print(predicted_class1[0:10])"
      ],
      "metadata": {
        "id": "nPf6UqON_lf9"
      },
      "execution_count": null,
      "outputs": []
    },
    {
      "cell_type": "code",
      "source": [
        "from sklearn.metrics import confusion_matrix\n",
        "\n",
        "cm7 = confusion_matrix(telecom_churn_fe[\"Churn_num\"], predicted_class1)\n",
        "print('Confusion Matrix : \\n', cm7)\n",
        "total7 = sum(sum(cm7))\n",
        "#From confusion matrix calcuate accuracy\n",
        "accuracy7 = (cm7[0,0]+cm7[1,1])/total7\n",
        "print('Accuracy', accuracy7)\n",
        "\n",
        "sensitivity7 = cm7[0,0]/(cm7[0,0]+cm7[0,1])\n",
        "print('Sensitivity : ', sensitivity7 )\n",
        "\n",
        "specificity7 = cm7[1,1]/(cm7[1,0]+cm7[1,1])\n",
        "print('Specificity : ', specificity7)"
      ],
      "metadata": {
        "id": "zRjaonBb_zTX"
      },
      "execution_count": null,
      "outputs": []
    },
    {
      "cell_type": "markdown",
      "source": [
        "### **THRESHOLDS**"
      ],
      "metadata": {
        "id": "rQImzSGsAICq"
      }
    },
    {
      "cell_type": "code",
      "source": [
        "#Threshold = 0.2\n",
        "threshold = 0.2\n",
        "predicted_class1=[0 if x < threshold else 1 for x in predictions]\n",
        "#print(predicted_class1[0:10])\n",
        "cm7 = confusion_matrix(telecom_churn_fe[\"Churn_num\"], predicted_class1)\n",
        "print('Confusion Matrix : \\n', cm7)\n",
        "total7 = sum(sum(cm7))\n",
        "#From confusion matrix calcuate accuracy\n",
        "accuracy7 = (cm7[0,0]+cm7[1,1])/total7\n",
        "print('Accuracy', accuracy1)\n",
        "\n",
        "sensitivity7 = cm7[0,0]/(cm7[0,0]+cm7[0,1])\n",
        "print('Sensitivity : ', sensitivity7 )\n",
        "\n",
        "specificity7 = cm7[1,1]/(cm7[1,0]+cm7[1,1])\n",
        "print('Specificity : ', specificity7)"
      ],
      "metadata": {
        "id": "Rw4Vaj4yAKhK"
      },
      "execution_count": null,
      "outputs": []
    },
    {
      "cell_type": "markdown",
      "source": [
        "By changing the threshold to 0.2, we have further improved the specificty from 1.5% to 59%. However, the sensitivity has reduced from 99.8% to 83.53%. if we further reduce the threshold, specificty will increase at the cost of sensitivity. we will be wrongly classifying customer who will churn vs. \n",
        "not churn **bold text**"
      ],
      "metadata": {
        "id": "_vJvwOgSA7yZ"
      }
    },
    {
      "cell_type": "markdown",
      "source": [
        "### **ROC**"
      ],
      "metadata": {
        "id": "g1Dgx8CyBKAO"
      }
    },
    {
      "cell_type": "code",
      "source": [
        "from sklearn.metrics import roc_curve, auc\n",
        "import matplotlib.pyplot as plt\n",
        "\n",
        "actual = telecom_churn_fe[\"Churn_num\"]\n",
        "False_positive_rate, True_positive_rate, thresholds = roc_curve(actual, predictions)\n",
        "plt.figure(figsize=(10,10))\n",
        "plt.title('ROC Curve', fontsize = 15)\n",
        "plt.plot(False_positive_rate, True_positive_rate)\n",
        "plt.plot([0,1],[0,1], 'r--')\n",
        "plt.ylabel('True Positive Rate(Sensitivity)', fontsize = 15)\n",
        "plt.xlabel('False Positive Rate(1-Sensitivity)', fontsize = 15)\n",
        "plt.show()"
      ],
      "metadata": {
        "id": "VGdvpHJ8A6Lm"
      },
      "execution_count": null,
      "outputs": []
    },
    {
      "cell_type": "markdown",
      "source": [
        "### **AUC**"
      ],
      "metadata": {
        "id": "W7x0bvJ7BYbG"
      }
    },
    {
      "cell_type": "code",
      "source": [
        "roc_auc = auc(False_positive_rate, True_positive_rate)\n",
        "roc_auc"
      ],
      "metadata": {
        "id": "gTgdXiaWBVgx"
      },
      "execution_count": null,
      "outputs": []
    },
    {
      "cell_type": "markdown",
      "source": [
        "\n",
        "**The AUC is close to 1, i.e., 0.8, the model is considered to be good.**"
      ],
      "metadata": {
        "id": "2wAYzj4JBoTI"
      }
    },
    {
      "cell_type": "markdown",
      "source": [
        "### **PRECISION, RECALL, and F1 SCORE**"
      ],
      "metadata": {
        "id": "4WTRRbNwBrC5"
      }
    },
    {
      "cell_type": "code",
      "source": [
        "from sklearn.metrics import classification_report\n",
        "print(classification_report(telecom_churn_fe[\"Churn_num\"],predicted_class1))"
      ],
      "metadata": {
        "id": "q5jm617lBtNh"
      },
      "execution_count": null,
      "outputs": []
    },
    {
      "cell_type": "markdown",
      "source": [
        "**Precision** = Out of all the Customers that the model predicted would Churn, 38% actually did.\n",
        "\n",
        "**Recall** = Out of all the Customers that actually Churned, the model only predicted this outcome correctly for 59% of those Customers.\n",
        "\n",
        "**F1 Score** = Since this value isn’t very close to 1, it tells us that the model does a poor job of predicting whether or not Customers will Churn."
      ],
      "metadata": {
        "id": "ShMqGMElCBpK"
      }
    },
    {
      "cell_type": "markdown",
      "source": [
        "# **CONCLUSION**"
      ],
      "metadata": {
        "id": "Z1Re_D8JDhyb"
      }
    },
    {
      "cell_type": "markdown",
      "source": [
        "**1. Original Dataset**\n",
        "\n",
        "*   Accuracy 0.7219917012448133\n",
        "*   Sensitivity :  0.8562019758507134\n",
        "*  Specificity :  0.5644329896907216\n",
        "\n",
        "**2. New Dataset with new calculated Features like Total Calls, Total Minutes, and Total Charge**\n",
        "*   Accuracy 0.7219917012448133\n",
        "*   Sensitivity :  0.8353819139596137\n",
        "*   Specificity :  0.5902061855670103\n",
        "\n",
        "**ADDING NEW FEATURES LIKE TOTAL CALLS, TOTAL MINUTES, AND TOTAL CHARGE HASN'T IMPROVED THE MODEL ACCURACY COMPARED TO THE MODEL WITH ORGINAL DATA SET. HOWEVER WITH FEWER FEATURES WE ARE ABLE TO EXPLAIN THE MODEL**"
      ],
      "metadata": {
        "id": "Q6bbYIgvEDj3"
      }
    },
    {
      "cell_type": "markdown",
      "source": [
        "# **RANDOM FORREST**"
      ],
      "metadata": {
        "id": "W9h9qcZvs8V1"
      }
    },
    {
      "cell_type": "code",
      "source": [
        "#Shape of the dataset\n",
        "telecom_churn.shape"
      ],
      "metadata": {
        "id": "IrfLSFSdtBXU"
      },
      "execution_count": null,
      "outputs": []
    },
    {
      "cell_type": "code",
      "source": [
        "#Column names\n",
        "telecom_churn.columns"
      ],
      "metadata": {
        "id": "5Fobe-BXwEu5"
      },
      "execution_count": null,
      "outputs": []
    },
    {
      "cell_type": "code",
      "source": [
        "#Column types\n",
        "telecom_churn.info()"
      ],
      "metadata": {
        "id": "tXxinXdBwLHP"
      },
      "execution_count": null,
      "outputs": []
    },
    {
      "cell_type": "markdown",
      "source": [
        "**There are 2666 records in the dataset. There are 26 variables in the data. The target varibale name is Churn_num; other variables are representing the data collected about each customer. There are numerical and string columns. We will work on numerical columns. Next step is to conduct basic data exploration on the predictor and target variables.**"
      ],
      "metadata": {
        "id": "OGprzEX_wWor"
      }
    },
    {
      "cell_type": "code",
      "source": [
        "#Summary of all numerical columns.\n",
        "all_cols_summary = telecom_churn.describe()\n",
        "print(all_cols_summary, 2)"
      ],
      "metadata": {
        "id": "MXT0CbndwShf"
      },
      "execution_count": null,
      "outputs": []
    },
    {
      "cell_type": "code",
      "source": [
        "#Target Variable\n",
        "print(telecom_churn['Churn_num'].value_counts())"
      ],
      "metadata": {
        "id": "oezI1fHhxJYp"
      },
      "execution_count": null,
      "outputs": []
    },
    {
      "cell_type": "markdown",
      "source": [
        "## **MODEL BUILDING AND VALIDATION**"
      ],
      "metadata": {
        "id": "ze4FFxI5yPik"
      }
    },
    {
      "cell_type": "markdown",
      "source": [
        "**Creating a new dataset**"
      ],
      "metadata": {
        "id": "weoSzY6tz2xu"
      }
    },
    {
      "cell_type": "code",
      "source": [
        "import pandas as pd\n",
        "import sklearn as sk\n",
        "import numpy as np\n",
        "import scipy as sp\n",
        "from sklearn import tree\n",
        "from sklearn.metrics import confusion_matrix\n",
        "from sklearn.model_selection import train_test_split"
      ],
      "metadata": {
        "id": "d-rmKePp3lXu"
      },
      "execution_count": null,
      "outputs": []
    },
    {
      "cell_type": "code",
      "source": [
        "#Droping certain variables\n",
        "telecom_churn_rf = telecom_churn.drop(columns = ['Churn', 'State', 'International plan', 'Voice mail plan', 'Account length', 'Number vmail messages', 'Total eve calls'], axis = 1)"
      ],
      "metadata": {
        "id": "9KK3A4PbxXPM"
      },
      "execution_count": null,
      "outputs": []
    },
    {
      "cell_type": "code",
      "source": [
        "telecom_churn_rf.shape"
      ],
      "metadata": {
        "id": "-HecT3crzvpM"
      },
      "execution_count": null,
      "outputs": []
    },
    {
      "cell_type": "code",
      "source": [
        "telecom_churn_rf.info()"
      ],
      "metadata": {
        "id": "dXZrvctkz9ch"
      },
      "execution_count": null,
      "outputs": []
    },
    {
      "cell_type": "code",
      "source": [
        "telecom_churn_rf.columns"
      ],
      "metadata": {
        "id": "AeqtgF0U1VcQ"
      },
      "execution_count": null,
      "outputs": []
    },
    {
      "cell_type": "code",
      "source": [
        "telecom_churn_rf=telecom_churn_rf[['Churn_num','Area code', 'Total day minutes', 'Total day calls', 'Total day charge', 'Total eve minutes', 'Total eve charge', 'Total night minutes', 'Total night calls', 'Total night charge', 'Total intl minutes', 'Total intl calls', 'Total intl charge', 'Customer service calls', 'Intl_plan_num', 'Vmail_plan_num', 'Account_length_new', 'number_vmail_new', 'Total_eve_calls_new']]"
      ],
      "metadata": {
        "id": "85EkR_2S1PJo"
      },
      "execution_count": null,
      "outputs": []
    },
    {
      "cell_type": "code",
      "source": [
        "telecom_churn_rf.info()"
      ],
      "metadata": {
        "id": "6HaeWi4f1o5M"
      },
      "execution_count": null,
      "outputs": []
    },
    {
      "cell_type": "code",
      "source": [
        "#Defining train and test data\n",
        "features=list(telecom_churn_rf.columns[1:18])\n",
        "X=telecom_churn_rf[features]\n",
        "y=telecom_churn_rf['Churn_num']"
      ],
      "metadata": {
        "id": "KZXxZDgF0AbL"
      },
      "execution_count": null,
      "outputs": []
    },
    {
      "cell_type": "code",
      "source": [
        "X_train, X_test, y_train, y_test = train_test_split(X,y,test_size = 0.2, random_state = 55)\n",
        "print(\"X_train shape \", X_train.shape)\n",
        "print(\"y_train shape \", y_train.shape)\n",
        "print(\"X_test shape \", X_test.shape)\n",
        "print(\"y_test shape \", y_test.shape)"
      ],
      "metadata": {
        "id": "0EHfXyoO2JkD"
      },
      "execution_count": null,
      "outputs": []
    },
    {
      "cell_type": "code",
      "source": [],
      "metadata": {
        "id": "HisZ7PmL5b4q"
      },
      "execution_count": null,
      "outputs": []
    },
    {
      "cell_type": "code",
      "source": [
        "#Building Decision Tree on training data\n",
        "telecom_clf = tree.DecisionTreeClassifier(max_depth=6)\n",
        "telecom_clf.fit(X_train, y_train)\n"
      ],
      "metadata": {
        "id": "PLKAMKkI6MY9"
      },
      "execution_count": null,
      "outputs": []
    },
    {
      "cell_type": "markdown",
      "source": [
        "## **DECISION TREE RESULTS**"
      ],
      "metadata": {
        "id": "62rpm5A56yyR"
      }
    },
    {
      "cell_type": "code",
      "source": [
        "#Accuracy on train data\n",
        "tree_predict8 = telecom_clf.predict(X_train)\n",
        "cm8 = confusion_matrix(y_train, tree_predict8)\n",
        "accuracy_train = (cm8[0,0]+cm8[1,1])/sum(sum(cm8))\n",
        "print(\"Decision Tree Accuracy on Train data =  \", accuracy_train)\n",
        "\n",
        "#Accuracy on test data\n",
        "tree_predict9 = telecom_clf.predict(X_test)\n",
        "cm9 = confusion_matrix(y_test, tree_predict9)\n",
        "accuracy_test = (cm9[0,0]+cm9[1,1])/sum(sum(cm9))\n",
        "print(\"Decision Tree Accuracy on Test data =  \", accuracy_test)\n",
        "\n",
        "#AUC on Train data\n",
        "false_positive_rate, true_positive_rate, thresholds = roc_curve(y_train, tree_predict8)\n",
        "auc_train = auc(false_positive_rate, true_positive_rate)\n",
        "print(\"Decision Tree AUC on Train data =  \", auc_train)\n",
        "\n",
        "#AUC on Test data\n",
        "false_positive_rate, true_positive_rate, thresholds = roc_curve(y_test, tree_predict9)\n",
        "auc_test = auc(false_positive_rate, true_positive_rate)\n",
        "print(\"Decision Tree AUC on Test data =  \", auc_test)\n"
      ],
      "metadata": {
        "id": "ZWA3HJ2o624R"
      },
      "execution_count": null,
      "outputs": []
    },
    {
      "cell_type": "markdown",
      "source": [
        "**The optimal depth for this data which max_depth = 6. The best decision tree gives us accuracy of 96% and AUC of 88% (closer to 1). Pelase note AUC is a better estimate. AUC is calcuated from the ROC Curve, which considers all threshold values. If the AUC value is approximately 1, the model is considered to be good. Also, the change of threshold the Accuracy can be changed.**"
      ],
      "metadata": {
        "id": "Oa6syaZ09oR9"
      }
    },
    {
      "cell_type": "markdown",
      "source": [
        "## **BUILDING RANDOM FOREST MODELS**"
      ],
      "metadata": {
        "id": "c_67nUX0IAtE"
      }
    },
    {
      "cell_type": "code",
      "source": [
        "#BUILDING RANDOM FOREST MODEL\n",
        "from sklearn.ensemble import RandomForestClassifier\n",
        "telecom_forest = RandomForestClassifier(n_estimators= 350, max_features = 7, max_depth = 7) \n",
        "telecom_forest.fit(X_train, y_train)\n"
      ],
      "metadata": {
        "id": "UJUlz7Oj9n7p"
      },
      "execution_count": null,
      "outputs": []
    },
    {
      "cell_type": "markdown",
      "source": [
        "**We are building 350 trees here. A higher number is prefered. The number of features is chosen based on Logistic Regression we notices 5-7 variables were explain the target variable. We fixed the max_depth at 10.**"
      ],
      "metadata": {
        "id": "1PWfx3LE_O8K"
      }
    },
    {
      "cell_type": "code",
      "source": [
        "#Accuracy on train data\n",
        "forest_predict10 = telecom_forest.predict(X_train)\n",
        "cm10 = confusion_matrix(y_train, forest_predict10)\n",
        "accuracy_train = (cm10[0,0]+cm10[1,1])/sum(sum(cm10))\n",
        "print(\"Random Forest Accuracy on Train data =  \", accuracy_train)\n",
        "\n",
        "#Accuracy on test data\n",
        "forest_predict11 = telecom_forest.predict(X_test)\n",
        "cm11 = confusion_matrix(y_test, forest_predict11)\n",
        "accuracy_test = (cm11[0,0]+cm11[1,1])/sum(sum(cm11))\n",
        "print(\"Random Forest Accuracy on Test data =  \", accuracy_test)\n",
        "\n",
        "#AUC on Train data\n",
        "false_positive_rate, true_positive_rate, thresholds = roc_curve(y_train, forest_predict10)\n",
        "auc_train = auc(false_positive_rate, true_positive_rate)\n",
        "print(\"Random Forest AUC on Train data =  \", auc_train)\n",
        "\n",
        "#AUC on Test data\n",
        "false_positive_rate, true_positive_rate, thresholds = roc_curve(y_test, forest_predict11)\n",
        "auc_test = auc(false_positive_rate, true_positive_rate)\n",
        "print(\"Random Forest AUC on Test data =  \", auc_test)"
      ],
      "metadata": {
        "id": "4DVvM-xX_Y41"
      },
      "execution_count": null,
      "outputs": []
    },
    {
      "cell_type": "markdown",
      "source": [
        "**We can the Random Forest gives us 97% accuracy and AUC of 91% on the train data. And it give us accuracy of 94% and AUC of 84.94% on the test data. Comared to a singel decision Tree aobove the Random Forest gives 3% improvement on the test data.** "
      ],
      "metadata": {
        "id": "HrQ7PR-IAY9C"
      }
    },
    {
      "cell_type": "markdown",
      "source": [
        "# **BOOSTING**"
      ],
      "metadata": {
        "id": "N4LSH9UJOiz6"
      }
    },
    {
      "cell_type": "markdown",
      "source": [
        "## **MODEL BUILDING AND VALIDATION**"
      ],
      "metadata": {
        "id": "REL5b5lbOoCe"
      }
    },
    {
      "cell_type": "code",
      "source": [
        "import pandas as pd\n",
        "import sklearn as sk\n",
        "import numpy as np\n",
        "import scipy as sp\n",
        "from sklearn import tree\n",
        "from sklearn.metrics import confusion_matrix\n",
        "from sklearn.metrics import f1_score\n",
        "import time\n",
        "from sklearn.ensemble import GradientBoostingClassifier"
      ],
      "metadata": {
        "id": "EpntmGl_OmDm"
      },
      "execution_count": null,
      "outputs": []
    },
    {
      "cell_type": "code",
      "source": [
        "telecom_churn_gbm = telecom_churn.drop(columns = ['Churn', 'State', 'International plan', 'Voice mail plan', 'Account length', 'Number vmail messages', 'Total eve calls'], axis = 1)"
      ],
      "metadata": {
        "id": "U70Vk4KLPUmL"
      },
      "execution_count": null,
      "outputs": []
    },
    {
      "cell_type": "code",
      "source": [
        "telecom_churn_gbm=telecom_churn_rf[['Churn_num','Area code', 'Total day minutes', 'Total day calls', 'Total day charge', 'Total eve minutes', 'Total eve charge', 'Total night minutes', 'Total night calls', 'Total night charge', 'Total intl minutes', 'Total intl calls', 'Total intl charge', 'Customer service calls', 'Intl_plan_num', 'Vmail_plan_num', 'Account_length_new', 'number_vmail_new', 'Total_eve_calls_new']]"
      ],
      "metadata": {
        "id": "ntGwZ4qGPhY8"
      },
      "execution_count": null,
      "outputs": []
    },
    {
      "cell_type": "code",
      "source": [
        "#Defining train and test data\n",
        "telecom_gbm_features=list(telecom_churn_gbm.columns[1:18])\n",
        "X=telecom_churn_gbm[telecom_gbm_features]\n",
        "y=telecom_churn_gbm['Churn_num']"
      ],
      "metadata": {
        "id": "WLJKNngXT7kO"
      },
      "execution_count": null,
      "outputs": []
    },
    {
      "cell_type": "code",
      "source": [
        "X_train, X_test, y_train, y_test = train_test_split(X,y,test_size = 0.2, random_state = 55)\n",
        "print(\"X_train shape \", X_train.shape)\n",
        "print(\"y_train shape \", y_train.shape)\n",
        "print(\"X_test shape \", X_test.shape)\n",
        "print(\"y_test shape \", y_test.shape)"
      ],
      "metadata": {
        "id": "nLS3OeT6TpzM"
      },
      "execution_count": null,
      "outputs": []
    },
    {
      "cell_type": "markdown",
      "source": [
        "## **DECISION TREE RESULTS**"
      ],
      "metadata": {
        "id": "w8Ity4iMUVsI"
      }
    },
    {
      "cell_type": "code",
      "source": [
        "#Building Decision Tree on training data\n",
        "from sklearn import tree\n",
        "telecom_tree = tree.DecisionTreeClassifier(max_depth=6)\n",
        "telecom_tree.fit(X_train,y_train)"
      ],
      "metadata": {
        "id": "s5njs_QePnXH"
      },
      "execution_count": null,
      "outputs": []
    },
    {
      "cell_type": "code",
      "source": [
        "#Accuracy on train data\n",
        "print(\"Decision Tree Results \\n\")\n",
        "print(\"Accuracy on train data\" , telecom_tree.score(X_train, y_train))\n",
        "print(\"Accuracy on test data\" , telecom_tree.score(X_test, y_test))"
      ],
      "metadata": {
        "id": "_AShqV9DUpvy"
      },
      "execution_count": null,
      "outputs": []
    },
    {
      "cell_type": "markdown",
      "source": [
        "## **GRADIENT BOOSTING MODEL**"
      ],
      "metadata": {
        "id": "8yFrOGYDVOyH"
      }
    },
    {
      "cell_type": "code",
      "source": [
        "from sklearn.ensemble import GradientBoostingClassifier\n",
        "telecom_gbm_model = GradientBoostingClassifier(n_estimators=100,learning_rate=0.01, verbose=1, max_depth=4) \n",
        "##fitting the gradient boost classifier\n",
        "telecom_gbm_model.fit(X_train,y_train)"
      ],
      "metadata": {
        "id": "HexwL00qVGnp"
      },
      "execution_count": null,
      "outputs": []
    },
    {
      "cell_type": "code",
      "source": [
        "#Validation on the train and test data\n",
        "#Confusion Matrix\n",
        "predictions12 = telecom_gbm_model.predict(X_train)\n",
        "acutals12 = y_train\n",
        "cm12 = confusion_matrix(acutals12, predictions12)\n",
        "print(\"Confusion Matrix on Train data\", cm12)\n",
        "accuracy12 = (cm12[0,0] + cm12[1,1])/(sum(sum(cm12)))\n",
        "print(\"Decision Tree Accuracy on Train data =  \", accuracy12)\n",
        "\n",
        "predictions13 = telecom_gbm_model.predict(X_test)\n",
        "acutals13 = y_test\n",
        "cm13 = confusion_matrix(acutals13, predictions13)\n",
        "print(\"Confusion Matrix on Test data\", cm13)\n",
        "accuracy13 = (cm13[0,0] + cm13[1,1])/(sum(sum(cm13)))\n",
        "print(\"Decision Tree Accuracy on Test data =  \", accuracy13)\n",
        "\n"
      ],
      "metadata": {
        "id": "qPim5FQ2WDe2"
      },
      "execution_count": null,
      "outputs": []
    },
    {
      "cell_type": "code",
      "source": [
        "#loop for different iterations\n",
        "for i in range(5,500, 50):\n",
        "    telecom_gbm_model = GradientBoostingClassifier(n_estimators= i, learning_rate=0.01, verbose=1, max_depth = 4)\n",
        "    telecom_gbm_model.fit(X_train,y_train)\n",
        "    print(\"N estimators = \", i)\n",
        "    #Train data\n",
        "    predictions = telecom_gbm_model.predict(X_train)\n",
        "    actuals=y_train\n",
        "    cm=confusion_matrix(actuals, predictions)\n",
        "    accuracy=(cm[0,0]+cm[1,1])/(sum(sum(cm))) \n",
        "    print(\"Train accuracy\", accuracy)\n",
        "    #Test data\n",
        "    predictions = telecom_gbm_model.predict(X_test)\n",
        "    actuals=y_test\n",
        "    cm=confusion_matrix(actuals, predictions)\n",
        "    accuracy=(cm[0,0]+cm[1,1])/(sum(sum(cm))) \n",
        "    print(\"Test accuracy\", accuracy)\n"
      ],
      "metadata": {
        "id": "PVJ-CQi5X0Gk"
      },
      "execution_count": null,
      "outputs": []
    },
    {
      "cell_type": "markdown",
      "source": [
        "**From the test results, we can see that the accuracy of the test data gets saturated at the 94% to 95% from 255 range/iterations. We can finalize the learning rate as 0.01 and number of iterations as 255.**"
      ],
      "metadata": {
        "id": "u5zc1eUvcm6d"
      }
    }
  ],
  "metadata": {
    "colab": {
      "provenance": [],
      "collapsed_sections": [
        "VRW5gqtrGIZ8"
      ],
      "include_colab_link": true
    },
    "kernelspec": {
      "display_name": "Python 3",
      "name": "python3"
    },
    "language_info": {
      "name": "python"
    }
  },
  "nbformat": 4,
  "nbformat_minor": 0
}